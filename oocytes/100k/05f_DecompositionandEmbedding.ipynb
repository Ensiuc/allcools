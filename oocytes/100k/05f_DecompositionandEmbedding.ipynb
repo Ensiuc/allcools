{
 "cells": [
  {
   "cell_type": "markdown",
   "id": "d0c48a77-4dc9-4152-a5b3-12fe1308158c",
   "metadata": {},
   "source": [
    "# from allcools page: https://lhqing.github.io/ALLCools/cell_level/step_by_step/100kb/05-DecompositionAndEmbedding.html\n",
    "Purpose\n",
    "The purpose of this step is to run PCA and manifold leanring (tSNE and UMAP) on the cell-by-feature matrix, feature to use can be either HVF or CEF. We use both the mCH and mCG matrix. We first run PCA on mCH and mCG matrix separately, and then concatenate mCH and mCG top PCs together to run KNN, followed by tSNE and UMAP embedding.\n",
    "\n"
   ]
  },
  {
   "cell_type": "code",
   "execution_count": null,
   "id": "678210aa-ff7b-4da8-8e59-1263f94a43b2",
   "metadata": {},
   "outputs": [],
   "source": [
    "Input\n",
    "HVF adata files.\n",
    "\n",
    "Output\n",
    "HVF adata file with PCA, tSNE and UMAP calculated."
   ]
  },
  {
   "cell_type": "code",
   "execution_count": 1,
   "id": "e0e04688-6329-450f-8c7e-bc1fef02ec79",
   "metadata": {},
   "outputs": [],
   "source": [
    "import numpy as np\n",
    "import pandas as pd\n",
    "import seaborn as sns\n",
    "import matplotlib.pyplot as plt\n",
    "import scanpy as sc\n",
    "import anndata\n",
    "\n",
    "from ALLCools.clustering import tsne, balanced_pca, significant_pc_test, log_scale\n",
    "from ALLCools.plot import *"
   ]
  },
  {
   "cell_type": "code",
   "execution_count": 2,
   "id": "44428566-afaa-4ee4-a306-603cacd77ffb",
   "metadata": {},
   "outputs": [],
   "source": [
    "sns.set_context(context='notebook', font_scale=1.3)"
   ]
  },
  {
   "cell_type": "code",
   "execution_count": 47,
   "id": "9c1feed7-9d14-42ce-b016-43b61a895745",
   "metadata": {},
   "outputs": [],
   "source": [
    "# cell metadata path\n",
    "metadata_path = 'CellMetadata.PassQC_oocyte.csv'\n",
    "mcds_paths = 'mcds/chrom100k'\n",
    "var_dim = 'chrom100k'\n",
    "# HVF mC Fraction AnnData Files\n",
    "ch_adata_path = 'mCH.HVF.h5ad'\n",
    "cg_adata_path = 'mCG.HVF.h5ad'\n",
    "\n",
    "# use feature type\n",
    "# HVF: all highly variable features\n",
    "# CEF: cluster enriched features\n",
    "feature_type = 'HVF' \n",
    "pre_cluster_name = 'leiden'\n",
    "\n",
    "# n_components\n",
    "n_components = 'auto'  # if auto, will use Kolmogorov-Smirnov test to test the adjacent PCs and cut when P > p_cutoff\n",
    "p_cutoff = 0.1  # ks test p value cutoff, only apply when n_components == 'auto'\n",
    "\n",
    "# downsample large clusters\n",
    "max_cell_prop = 0.05"
   ]
  },
  {
   "cell_type": "code",
   "execution_count": 4,
   "id": "7de234a5-7a7f-410b-b001-4d9bbf68581b",
   "metadata": {
    "scrolled": true
   },
   "outputs": [
    {
     "data": {
      "text/html": [
       "<div>\n",
       "<style scoped>\n",
       "    .dataframe tbody tr th:only-of-type {\n",
       "        vertical-align: middle;\n",
       "    }\n",
       "\n",
       "    .dataframe tbody tr th {\n",
       "        vertical-align: top;\n",
       "    }\n",
       "\n",
       "    .dataframe thead th {\n",
       "        text-align: right;\n",
       "    }\n",
       "</style>\n",
       "<table border=\"1\" class=\"dataframe\">\n",
       "  <thead>\n",
       "    <tr style=\"text-align: right;\">\n",
       "      <th></th>\n",
       "      <th>Date</th>\n",
       "      <th>Type of sample</th>\n",
       "      <th>WellID</th>\n",
       "      <th>WellBarcode</th>\n",
       "      <th>AnimalID</th>\n",
       "      <th>Type</th>\n",
       "      <th>TotalRead</th>\n",
       "      <th>mCGFrac</th>\n",
       "      <th>Group</th>\n",
       "      <th>SampleName</th>\n",
       "    </tr>\n",
       "    <tr>\n",
       "      <th>SampleID</th>\n",
       "      <th></th>\n",
       "      <th></th>\n",
       "      <th></th>\n",
       "      <th></th>\n",
       "      <th></th>\n",
       "      <th></th>\n",
       "      <th></th>\n",
       "      <th></th>\n",
       "      <th></th>\n",
       "      <th></th>\n",
       "    </tr>\n",
       "  </thead>\n",
       "  <tbody>\n",
       "    <tr>\n",
       "      <th>3889744700PO1NC5D1S</th>\n",
       "      <td>44700</td>\n",
       "      <td>Pooled Oocytes (5) #1</td>\n",
       "      <td>D1</td>\n",
       "      <td>CAGTCACA</td>\n",
       "      <td>38897</td>\n",
       "      <td>PO</td>\n",
       "      <td>10700000</td>\n",
       "      <td>0.693</td>\n",
       "      <td>Stressed</td>\n",
       "      <td>3889744700PO1NC5D1S_1_val_1_bismark_bt2_pe.all...</td>\n",
       "    </tr>\n",
       "    <tr>\n",
       "      <th>3905345005PO1NC2I1S</th>\n",
       "      <td>45005</td>\n",
       "      <td>Pooled Oocytes (2) #1</td>\n",
       "      <td>I1</td>\n",
       "      <td>TGATAGGC</td>\n",
       "      <td>39053</td>\n",
       "      <td>PO</td>\n",
       "      <td>2700000</td>\n",
       "      <td>0.623</td>\n",
       "      <td>Stressed</td>\n",
       "      <td>3905345005PO1NC2I1S_1_val_1_bismark_bt2_pe.all...</td>\n",
       "    </tr>\n",
       "    <tr>\n",
       "      <th>4129944963PO1NC3N1S</th>\n",
       "      <td>44963</td>\n",
       "      <td>Pooled Oocytes (3) #1</td>\n",
       "      <td>N1</td>\n",
       "      <td>ATTCCGCT</td>\n",
       "      <td>41299</td>\n",
       "      <td>PO</td>\n",
       "      <td>2900000</td>\n",
       "      <td>0.626</td>\n",
       "      <td>Stressed</td>\n",
       "      <td>4129944963PO1NC3N1S_1_val_1_bismark_bt2_pe.all...</td>\n",
       "    </tr>\n",
       "    <tr>\n",
       "      <th>4129944963PO2NC4M1S</th>\n",
       "      <td>44963</td>\n",
       "      <td>Pooled Oocytes (4) #2</td>\n",
       "      <td>M1</td>\n",
       "      <td>CACGCAAT</td>\n",
       "      <td>41299</td>\n",
       "      <td>PO</td>\n",
       "      <td>2300000</td>\n",
       "      <td>0.684</td>\n",
       "      <td>Stressed</td>\n",
       "      <td>4129944963PO2NC4M1S_1_val_1_bismark_bt2_pe.all...</td>\n",
       "    </tr>\n",
       "    <tr>\n",
       "      <th>4129944963PO3NC3O1S</th>\n",
       "      <td>44963</td>\n",
       "      <td>Pooled Oocytes (3) #3</td>\n",
       "      <td>O1</td>\n",
       "      <td>AGAAGGAC</td>\n",
       "      <td>41299</td>\n",
       "      <td>PO</td>\n",
       "      <td>4800000</td>\n",
       "      <td>0.641</td>\n",
       "      <td>Stressed</td>\n",
       "      <td>4129944963PO3NC3O1S_1_val_1_bismark_bt2_pe.all...</td>\n",
       "    </tr>\n",
       "    <tr>\n",
       "      <th>...</th>\n",
       "      <td>...</td>\n",
       "      <td>...</td>\n",
       "      <td>...</td>\n",
       "      <td>...</td>\n",
       "      <td>...</td>\n",
       "      <td>...</td>\n",
       "      <td>...</td>\n",
       "      <td>...</td>\n",
       "      <td>...</td>\n",
       "      <td>...</td>\n",
       "    </tr>\n",
       "    <tr>\n",
       "      <th>4636344664SO3NC1K9C</th>\n",
       "      <td>44664</td>\n",
       "      <td>Single Oocyte #3</td>\n",
       "      <td>K9</td>\n",
       "      <td>TCAGACAC</td>\n",
       "      <td>46363</td>\n",
       "      <td>SO</td>\n",
       "      <td>4900000</td>\n",
       "      <td>0.689</td>\n",
       "      <td>Control</td>\n",
       "      <td>4636344664SO3NC1K9C_1_val_1_bismark_bt2_pe.all...</td>\n",
       "    </tr>\n",
       "    <tr>\n",
       "      <th>4660644938SO1NC1M9C</th>\n",
       "      <td>44938</td>\n",
       "      <td>Single Oocyte #1</td>\n",
       "      <td>M9</td>\n",
       "      <td>ATGCGTCA</td>\n",
       "      <td>46606</td>\n",
       "      <td>SO</td>\n",
       "      <td>43500000</td>\n",
       "      <td>0.691</td>\n",
       "      <td>Control</td>\n",
       "      <td>4660644938SO1NC1M9C_1_val_1_bismark_bt2_pe.all...</td>\n",
       "    </tr>\n",
       "    <tr>\n",
       "      <th>4660644938SO2NC1N9C</th>\n",
       "      <td>44938</td>\n",
       "      <td>Single Oocyte #2</td>\n",
       "      <td>N9</td>\n",
       "      <td>CACAGGAA</td>\n",
       "      <td>46606</td>\n",
       "      <td>SO</td>\n",
       "      <td>4800000</td>\n",
       "      <td>0.685</td>\n",
       "      <td>Control</td>\n",
       "      <td>4660644938SO2NC1N9C_1_val_1_bismark_bt2_pe.all...</td>\n",
       "    </tr>\n",
       "    <tr>\n",
       "      <th>4660644938SO3NC1O9C</th>\n",
       "      <td>44938</td>\n",
       "      <td>Single Oocyte #3</td>\n",
       "      <td>O9</td>\n",
       "      <td>ATCGCAAC</td>\n",
       "      <td>46606</td>\n",
       "      <td>SO</td>\n",
       "      <td>2800000</td>\n",
       "      <td>0.677</td>\n",
       "      <td>Control</td>\n",
       "      <td>4660644938SO3NC1O9C_1_val_1_bismark_bt2_pe.all...</td>\n",
       "    </tr>\n",
       "    <tr>\n",
       "      <th>4598245001SO2NC1C10C</th>\n",
       "      <td>45001</td>\n",
       "      <td>Single Oocyte #2</td>\n",
       "      <td>C10</td>\n",
       "      <td>ACAGGCAT</td>\n",
       "      <td>45982</td>\n",
       "      <td>SO</td>\n",
       "      <td>1200000</td>\n",
       "      <td>0.691</td>\n",
       "      <td>Control</td>\n",
       "      <td>4598245001SO2NC1C10C_1_val_1_bismark_bt2_pe.al...</td>\n",
       "    </tr>\n",
       "  </tbody>\n",
       "</table>\n",
       "<p>120 rows × 10 columns</p>\n",
       "</div>"
      ],
      "text/plain": [
       "                       Date         Type of sample WellID WellBarcode  \\\n",
       "SampleID                                                                \n",
       "3889744700PO1NC5D1S   44700  Pooled Oocytes (5) #1     D1    CAGTCACA   \n",
       "3905345005PO1NC2I1S   45005  Pooled Oocytes (2) #1     I1    TGATAGGC   \n",
       "4129944963PO1NC3N1S   44963  Pooled Oocytes (3) #1     N1    ATTCCGCT   \n",
       "4129944963PO2NC4M1S   44963  Pooled Oocytes (4) #2     M1    CACGCAAT   \n",
       "4129944963PO3NC3O1S   44963  Pooled Oocytes (3) #3     O1    AGAAGGAC   \n",
       "...                     ...                    ...    ...         ...   \n",
       "4636344664SO3NC1K9C   44664       Single Oocyte #3     K9    TCAGACAC   \n",
       "4660644938SO1NC1M9C   44938       Single Oocyte #1     M9    ATGCGTCA   \n",
       "4660644938SO2NC1N9C   44938       Single Oocyte #2     N9    CACAGGAA   \n",
       "4660644938SO3NC1O9C   44938       Single Oocyte #3     O9    ATCGCAAC   \n",
       "4598245001SO2NC1C10C  45001       Single Oocyte #2    C10    ACAGGCAT   \n",
       "\n",
       "                      AnimalID Type  TotalRead  mCGFrac     Group  \\\n",
       "SampleID                                                            \n",
       "3889744700PO1NC5D1S      38897   PO   10700000    0.693  Stressed   \n",
       "3905345005PO1NC2I1S      39053   PO    2700000    0.623  Stressed   \n",
       "4129944963PO1NC3N1S      41299   PO    2900000    0.626  Stressed   \n",
       "4129944963PO2NC4M1S      41299   PO    2300000    0.684  Stressed   \n",
       "4129944963PO3NC3O1S      41299   PO    4800000    0.641  Stressed   \n",
       "...                        ...  ...        ...      ...       ...   \n",
       "4636344664SO3NC1K9C      46363   SO    4900000    0.689   Control   \n",
       "4660644938SO1NC1M9C      46606   SO   43500000    0.691   Control   \n",
       "4660644938SO2NC1N9C      46606   SO    4800000    0.685   Control   \n",
       "4660644938SO3NC1O9C      46606   SO    2800000    0.677   Control   \n",
       "4598245001SO2NC1C10C     45982   SO    1200000    0.691   Control   \n",
       "\n",
       "                                                             SampleName  \n",
       "SampleID                                                                 \n",
       "3889744700PO1NC5D1S   3889744700PO1NC5D1S_1_val_1_bismark_bt2_pe.all...  \n",
       "3905345005PO1NC2I1S   3905345005PO1NC2I1S_1_val_1_bismark_bt2_pe.all...  \n",
       "4129944963PO1NC3N1S   4129944963PO1NC3N1S_1_val_1_bismark_bt2_pe.all...  \n",
       "4129944963PO2NC4M1S   4129944963PO2NC4M1S_1_val_1_bismark_bt2_pe.all...  \n",
       "4129944963PO3NC3O1S   4129944963PO3NC3O1S_1_val_1_bismark_bt2_pe.all...  \n",
       "...                                                                 ...  \n",
       "4636344664SO3NC1K9C   4636344664SO3NC1K9C_1_val_1_bismark_bt2_pe.all...  \n",
       "4660644938SO1NC1M9C   4660644938SO1NC1M9C_1_val_1_bismark_bt2_pe.all...  \n",
       "4660644938SO2NC1N9C   4660644938SO2NC1N9C_1_val_1_bismark_bt2_pe.all...  \n",
       "4660644938SO3NC1O9C   4660644938SO3NC1O9C_1_val_1_bismark_bt2_pe.all...  \n",
       "4598245001SO2NC1C10C  4598245001SO2NC1C10C_1_val_1_bismark_bt2_pe.al...  \n",
       "\n",
       "[120 rows x 10 columns]"
      ]
     },
     "execution_count": 4,
     "metadata": {},
     "output_type": "execute_result"
    }
   ],
   "source": [
    "metadata = pd.read_csv(metadata_path, index_col=0)\n",
    "metadata"
   ]
  },
  {
   "cell_type": "code",
   "execution_count": 5,
   "id": "f52aaf93-0d3c-4197-a559-639c47e4b6dd",
   "metadata": {},
   "outputs": [],
   "source": [
    "ch_adata = anndata.read_h5ad(ch_adata_path)\n",
    "cg_adata = anndata.read_h5ad(cg_adata_path)"
   ]
  },
  {
   "cell_type": "code",
   "execution_count": 13,
   "id": "bfc7bdc3-813e-4121-86d3-791ff5d125da",
   "metadata": {},
   "outputs": [
    {
     "data": {
      "text/html": [
       "<div>\n",
       "<style scoped>\n",
       "    .dataframe tbody tr th:only-of-type {\n",
       "        vertical-align: middle;\n",
       "    }\n",
       "\n",
       "    .dataframe tbody tr th {\n",
       "        vertical-align: top;\n",
       "    }\n",
       "\n",
       "    .dataframe thead th {\n",
       "        text-align: right;\n",
       "    }\n",
       "</style>\n",
       "<table border=\"1\" class=\"dataframe\">\n",
       "  <thead>\n",
       "    <tr style=\"text-align: right;\">\n",
       "      <th></th>\n",
       "      <th>leiden</th>\n",
       "    </tr>\n",
       "    <tr>\n",
       "      <th>cell</th>\n",
       "      <th></th>\n",
       "    </tr>\n",
       "  </thead>\n",
       "  <tbody>\n",
       "    <tr>\n",
       "      <th>4636344664PO1NC5L9C</th>\n",
       "      <td>2</td>\n",
       "    </tr>\n",
       "    <tr>\n",
       "      <th>4598245001PO2NC4F8C</th>\n",
       "      <td>1</td>\n",
       "    </tr>\n",
       "    <tr>\n",
       "      <th>4566944700PO2NC5P8C</th>\n",
       "      <td>5</td>\n",
       "    </tr>\n",
       "    <tr>\n",
       "      <th>4520844650PO1NC5A7S</th>\n",
       "      <td>3</td>\n",
       "    </tr>\n",
       "    <tr>\n",
       "      <th>4139144650PO3NC3E3C</th>\n",
       "      <td>2</td>\n",
       "    </tr>\n",
       "    <tr>\n",
       "      <th>...</th>\n",
       "      <td>...</td>\n",
       "    </tr>\n",
       "    <tr>\n",
       "      <th>4566944964SO1NC1O7C</th>\n",
       "      <td>4</td>\n",
       "    </tr>\n",
       "    <tr>\n",
       "      <th>4598245001SO1NC1B9C</th>\n",
       "      <td>3</td>\n",
       "    </tr>\n",
       "    <tr>\n",
       "      <th>4636344664SO3NC1K9C</th>\n",
       "      <td>0</td>\n",
       "    </tr>\n",
       "    <tr>\n",
       "      <th>4456444991SO1NC1E6C</th>\n",
       "      <td>1</td>\n",
       "    </tr>\n",
       "    <tr>\n",
       "      <th>4211144957SO2NC1B5C</th>\n",
       "      <td>3</td>\n",
       "    </tr>\n",
       "  </tbody>\n",
       "</table>\n",
       "<p>120 rows × 1 columns</p>\n",
       "</div>"
      ],
      "text/plain": [
       "                    leiden\n",
       "cell                      \n",
       "4636344664PO1NC5L9C      2\n",
       "4598245001PO2NC4F8C      1\n",
       "4566944700PO2NC5P8C      5\n",
       "4520844650PO1NC5A7S      3\n",
       "4139144650PO3NC3E3C      2\n",
       "...                    ...\n",
       "4566944964SO1NC1O7C      4\n",
       "4598245001SO1NC1B9C      3\n",
       "4636344664SO3NC1K9C      0\n",
       "4456444991SO1NC1E6C      1\n",
       "4211144957SO2NC1B5C      3\n",
       "\n",
       "[120 rows x 1 columns]"
      ]
     },
     "execution_count": 13,
     "metadata": {},
     "output_type": "execute_result"
    }
   ],
   "source": [
    "ch_adata.obs"
   ]
  },
  {
   "cell_type": "code",
   "execution_count": 6,
   "id": "e4ad8576-c5f3-40bf-b8c1-5c45be7b0c17",
   "metadata": {},
   "outputs": [
    {
     "name": "stdout",
     "output_type": "stream",
     "text": [
      "Using Cluster Enriched Features\n"
     ]
    }
   ],
   "source": [
    "if feature_type == 'CEF':\n",
    "    print('Using Cluster Enriched Features')\n",
    "    ch_adata = ch_adata[:, ch_adata.var[f'{pre_cluster_name}_enriched_features']].copy()\n",
    "    cg_adata = cg_adata[:, cg_adata.var[f'{pre_cluster_name}_enriched_features']].copy()"
   ]
  },
  {
   "cell_type": "code",
   "execution_count": 7,
   "id": "88ea9264-2a4e-4c8e-b2d8-562f02dbdb39",
   "metadata": {},
   "outputs": [
    {
     "name": "stdout",
     "output_type": "stream",
     "text": [
      "adata.X is already log transformed, skip log step.\n",
      "adata.X is already log transformed, skip log step.\n"
     ]
    }
   ],
   "source": [
    "ch_scaler = log_scale(ch_adata)\n",
    "\n",
    "cg_scaler = log_scale(cg_adata)"
   ]
  },
  {
   "cell_type": "code",
   "execution_count": 8,
   "id": "006d453a-00c4-42ea-a619-6d4a16fe1f2d",
   "metadata": {},
   "outputs": [
    {
     "name": "stderr",
     "output_type": "stream",
     "text": [
      "/share/lasallelab/Ensi/anaconda3/lib/python3.11/site-packages/ALLCools/clustering/balanced_pca.py:173: FutureWarning: The default of observed=False is deprecated and will be changed to True in a future version of pandas. Pass observed=False to retain current behavior or observed=True to adopt the future default and silence this warning.\n",
      "  for _, sub_df in adata.obs.groupby(groups):\n"
     ]
    },
    {
     "data": {
      "image/png": "[encoded data removed]",
      "text/plain": [
       "<Figure size 640x480 with 1 Axes>"
      ]
     },
     "metadata": {},
     "output_type": "display_data"
    },
    {
     "name": "stdout",
     "output_type": "stream",
     "text": [
      "only 2 passed the P cutoff, in order to proceed following analysis, will use first 4 PCs\n",
      "Changing adata.obsm['X_pca'] from shape (120, 100) to (120, 4)\n"
     ]
    }
   ],
   "source": [
    "#RUN PCA mCH\n",
    "balanced_pca(ch_adata, groups=pre_cluster_name)\n",
    "sc.pl.pca_variance_ratio(ch_adata)\n",
    "ch_n_components = significant_pc_test(ch_adata, p_cutoff=p_cutoff)"
   ]
  },
  {
   "cell_type": "code",
   "execution_count": 9,
   "id": "e7848bdf-08b2-4bda-b638-52dd76600069",
   "metadata": {},
   "outputs": [
    {
     "data": {
      "text/plain": [
       "<Figure size 640x480 with 0 Axes>"
      ]
     },
     "metadata": {},
     "output_type": "display_data"
    }
   ],
   "source": [
    "#save\n",
    "plt.savefig(\"05f_mCH_pcacomponents_chrm100k.png\")\n"
   ]
  },
  {
   "cell_type": "code",
   "execution_count": 15,
   "id": "bd6405dd-a64c-472b-b012-ef7e666ee640",
   "metadata": {},
   "outputs": [],
   "source": [
    "#PCA-mCH\n",
    "\n",
    "hue = 'mCHFrac'\n",
    "if hue in metadata.columns:\n",
    "    ch_adata.obs[hue] = metadata[hue].reindex(ch_adata.obs_names)\n",
    "    fig, axes = plot_decomp_scatters(ch_adata,\n",
    "                                     n_components=ch_n_components,\n",
    "                                     hue=hue,\n",
    "                                     hue_quantile=(0.25, 0.75),\n",
    "                                     nrows=5,\n",
    "                                     ncols=5)"
   ]
  },
  {
   "cell_type": "code",
   "execution_count": null,
   "id": "d7f6daea-c407-4c67-8a9c-8533efa04c08",
   "metadata": {},
   "outputs": [],
   "source": [
    "#save\n",
    "plt.savefig(\"05f_PCAmCH_chrm100k.png\")\n"
   ]
  },
  {
   "cell_type": "code",
   "execution_count": 16,
   "id": "98803907-94ad-41e4-a5f4-36e03666f09f",
   "metadata": {},
   "outputs": [
    {
     "name": "stderr",
     "output_type": "stream",
     "text": [
      "/share/lasallelab/Ensi/anaconda3/lib/python3.11/site-packages/ALLCools/clustering/balanced_pca.py:173: FutureWarning: The default of observed=False is deprecated and will be changed to True in a future version of pandas. Pass observed=False to retain current behavior or observed=True to adopt the future default and silence this warning.\n",
      "  for _, sub_df in adata.obs.groupby(groups):\n"
     ]
    },
    {
     "data": {
      "image/png": "[encoded data removed]",
      "text/plain": [
       "<Figure size 640x480 with 1 Axes>"
      ]
     },
     "metadata": {},
     "output_type": "display_data"
    },
    {
     "name": "stdout",
     "output_type": "stream",
     "text": [
      "4 components passed P cutoff of 0.1.\n",
      "Changing adata.obsm['X_pca'] from shape (120, 100) to (120, 4)\n"
     ]
    }
   ],
   "source": [
    "# RUN PCA mCG\n",
    "\n",
    "balanced_pca(cg_adata, groups=pre_cluster_name)\n",
    "sc.pl.pca_variance_ratio(cg_adata)\n",
    "cg_n_components = significant_pc_test(cg_adata, p_cutoff=p_cutoff)"
   ]
  },
  {
   "cell_type": "code",
   "execution_count": 17,
   "id": "a3ef84e3-7e06-4db9-beeb-b951deaee223",
   "metadata": {},
   "outputs": [
    {
     "data": {
      "text/plain": [
       "<Figure size 640x480 with 0 Axes>"
      ]
     },
     "metadata": {},
     "output_type": "display_data"
    }
   ],
   "source": [
    "#save\n",
    "plt.savefig(\"05f_mCG_pcacomponents_chrm100k.png\")"
   ]
  },
  {
   "cell_type": "code",
   "execution_count": 18,
   "id": "3eec6871-2f23-4650-980b-456348151316",
   "metadata": {},
   "outputs": [
    {
     "name": "stdout",
     "output_type": "stream",
     "text": [
      "Red axis labels are used PCs\n"
     ]
    },
    {
     "data": {
      "image/png": "[encoded data removed]",
      "text/plain": [
       "<Figure size 2250x450 with 6 Axes>"
      ]
     },
     "metadata": {},
     "output_type": "display_data"
    }
   ],
   "source": [
    "# PCA mCG\n",
    "\n",
    "\n",
    "hue = 'mCGFrac'\n",
    "if hue in metadata.columns:\n",
    "    cg_adata.obs[hue] = metadata[hue].reindex(cg_adata.obs_names)\n",
    "    fig, axes = plot_decomp_scatters(cg_adata,\n",
    "                                     n_components=cg_n_components,\n",
    "                                     hue=hue,\n",
    "                                     hue_quantile=(0.25, 0.75),\n",
    "                                     nrows=5,\n",
    "                                     ncols=5)"
   ]
  },
  {
   "cell_type": "code",
   "execution_count": 19,
   "id": "f4a4197c-a37d-4fbe-a0b4-dacea466f0c7",
   "metadata": {},
   "outputs": [
    {
     "data": {
      "text/plain": [
       "<Figure size 640x480 with 0 Axes>"
      ]
     },
     "metadata": {},
     "output_type": "display_data"
    }
   ],
   "source": [
    "#save\n",
    "plt.savefig(\"05f_PCAmCG_chrm100k.png\")\n"
   ]
  },
  {
   "cell_type": "code",
   "execution_count": 21,
   "id": "f2e5ee8c-08cc-4dc5-a123-70bc83622ddd",
   "metadata": {},
   "outputs": [
    {
     "data": {
      "text/plain": [
       "array([[-1.59567201e+00, -9.85775050e-03, -3.77607010e-02,\n",
       "         3.25403772e-02, -1.36725581e+00,  1.26778603e-01,\n",
       "         4.94463146e-02,  4.50802371e-02],\n",
       "       [ 1.96164012e+00, -2.11621150e-01, -9.05519165e-03,\n",
       "        -9.77552030e-03,  7.73001790e-01, -1.43343940e-01,\n",
       "        -1.17004588e-01, -1.12206399e-01],\n",
       "       [ 3.60427856e-01, -4.29290831e-02,  5.67470156e-02,\n",
       "         1.87145062e-02, -6.70811296e-01,  6.82653114e-03,\n",
       "        -5.67332953e-02, -8.01875889e-02],\n",
       "       [-4.60318148e-01, -2.57293135e-01, -1.45099282e-01,\n",
       "        -1.29237428e-01, -1.43108571e+00, -4.56072949e-02,\n",
       "         1.34811386e-01,  2.12231815e-01],\n",
       "       [-1.39347744e+00,  1.18863238e-02, -2.59321787e-05,\n",
       "        -2.07907539e-02, -1.40736997e+00,  9.15705264e-02,\n",
       "         9.22031403e-02, -5.87397367e-02],\n",
       "       [-1.40057576e+00, -9.38999876e-02, -6.48130476e-02,\n",
       "         3.41583677e-02, -1.01779604e+00,  1.03960358e-01,\n",
       "         4.53248136e-02, -5.19767478e-02],\n",
       "       [-1.12494476e-01, -5.82034588e-02, -2.95678638e-02,\n",
       "         1.92840621e-02, -1.14649248e+00,  8.98773000e-02,\n",
       "         8.26393068e-02, -4.77720946e-02],\n",
       "       [-9.82570767e-01, -1.01921104e-01, -1.00052230e-01,\n",
       "        -1.07518502e-01, -1.29601848e+00, -1.89630706e-02,\n",
       "         1.37213320e-01, -1.50416084e-02],\n",
       "       [ 2.85716325e-01, -4.87007760e-02, -1.10125840e-01,\n",
       "        -5.01221642e-02, -4.89580929e-01,  6.87993392e-02,\n",
       "        -4.17256320e-04, -7.76333064e-02],\n",
       "       [-7.55643070e-01, -4.58079502e-02, -1.71915647e-02,\n",
       "         2.95539517e-02, -1.16055679e+00,  9.81682912e-02,\n",
       "         9.44289491e-02,  1.23048397e-02],\n",
       "       [-2.42011714e+00, -3.31970491e-02, -9.51654017e-02,\n",
       "        -2.05102051e-03, -1.66775548e+00,  9.74724442e-02,\n",
       "         1.13518052e-01, -2.45767292e-02],\n",
       "       [ 2.20869637e+00, -4.20126393e-02, -2.53434628e-02,\n",
       "        -1.06959105e-01,  7.46563315e-01, -1.53881274e-02,\n",
       "        -1.42325327e-01,  1.29098028e-01],\n",
       "       [-6.68202341e-01, -4.21668477e-02, -6.28102496e-02,\n",
       "        -2.79273726e-02, -1.64756644e+00,  5.01834676e-02,\n",
       "         1.60292745e-01,  9.30708945e-02],\n",
       "       [ 2.47519779e+00, -9.23747420e-02,  4.19473015e-02,\n",
       "        -4.91370410e-02,  1.43562913e+00,  1.88844057e-03,\n",
       "         3.24510708e-02, -9.34953317e-02],\n",
       "       [ 2.66332650e+00, -1.83290482e-01, -1.45379081e-01,\n",
       "        -1.38152882e-01,  2.55578470e+00, -4.84862626e-01,\n",
       "        -1.34073213e-01,  1.49768993e-01],\n",
       "       [ 2.11355853e+00, -1.29200332e-02,  9.08998400e-02,\n",
       "        -5.89681827e-02,  1.56394887e+00, -1.26155987e-01,\n",
       "        -2.46376783e-01, -4.23680842e-02],\n",
       "       [-1.08229125e+00, -9.16435346e-02,  9.32432562e-02,\n",
       "         3.25367553e-03,  4.83344460e+00, -3.71422321e-01,\n",
       "        -4.98608649e-01, -2.07877591e-01],\n",
       "       [ 1.91195953e+00, -9.14152488e-02,  4.60205525e-02,\n",
       "        -1.05678029e-01,  8.67789686e-01,  9.56986696e-02,\n",
       "        -1.71249971e-01,  6.46616751e-03],\n",
       "       [-7.63213575e-01, -3.15826349e-02, -3.38539593e-02,\n",
       "         4.09974158e-03, -9.70785499e-01,  3.03209890e-02,\n",
       "         1.53528333e-01,  2.29366794e-02],\n",
       "       [-1.48959732e+00, -4.60264087e-02,  1.31148901e-02,\n",
       "         5.01073264e-02, -8.23766470e-01,  1.13966413e-01,\n",
       "         5.10838926e-02,  2.50909068e-02],\n",
       "       [-1.87820828e+00, -1.46063427e-02, -9.82738361e-02,\n",
       "         5.71065508e-02, -1.06499398e+00,  7.60720624e-03,\n",
       "         3.78687195e-02, -2.73450650e-02],\n",
       "       [ 4.01838303e-01, -4.60613780e-02, -9.73106399e-02,\n",
       "         3.36175738e-03, -6.61517680e-01,  5.82401492e-02,\n",
       "        -9.43046585e-02, -1.24664009e-02],\n",
       "       [ 1.10186982e+00, -1.96266994e-01, -2.58751154e-01,\n",
       "        -8.23464617e-02,  4.16187048e-01,  2.85875946e-02,\n",
       "        -1.20669700e-01, -1.83204755e-01],\n",
       "       [ 1.26291960e-01, -1.20031931e-01, -1.19204381e-02,\n",
       "        -1.00033604e-01, -9.47764516e-01,  6.14751913e-02,\n",
       "         6.74143434e-02, -7.01292008e-02],\n",
       "       [-1.08742034e+00,  1.34727340e-02, -1.91308379e-01,\n",
       "        -5.81868365e-02, -1.16099536e+00,  8.31441507e-02,\n",
       "         1.06763080e-01,  4.84003276e-02],\n",
       "       [ 1.20895350e+00, -1.21005639e-01,  1.62793621e-02,\n",
       "         1.05245955e-01,  7.60675251e-01,  1.29509702e-01,\n",
       "        -7.49394223e-02, -8.23066756e-02],\n",
       "       [-6.00195229e-01, -5.33370674e-02, -1.39855156e-02,\n",
       "         1.33722844e-02, -9.44519281e-01,  1.07000940e-01,\n",
       "         1.99194346e-03,  8.84102192e-03],\n",
       "       [ 1.54803300e+00,  2.02713418e-03, -2.66817153e-01,\n",
       "         8.09310004e-02,  1.42564929e+00,  5.82685880e-02,\n",
       "        -3.39772046e-01, -4.65345502e-01],\n",
       "       [ 4.70780134e-01, -5.08676693e-02, -3.93333584e-02,\n",
       "         6.39811382e-02, -3.10774803e-01,  1.04102194e-01,\n",
       "         4.13132133e-03,  7.60929361e-02],\n",
       "       [ 2.49943948e+00, -1.27977982e-01,  9.01557356e-02,\n",
       "         1.02207370e-01,  1.35359144e+00, -1.78253278e-01,\n",
       "        -3.43847647e-02, -2.74211913e-01],\n",
       "       [ 4.42110837e-01,  5.74205853e-02, -1.79048210e-01,\n",
       "         4.46784720e-02, -4.11882728e-01, -2.86251884e-02,\n",
       "        -4.30638976e-02, -1.29728779e-01],\n",
       "       [ 2.11503935e+00, -7.11899018e-03, -1.09247282e-01,\n",
       "        -3.02815497e-01,  8.10647905e-01,  2.23521218e-02,\n",
       "        -1.28439531e-01, -4.86507872e-03],\n",
       "       [ 2.93824077e-01,  1.42549142e-01, -2.08621651e-01,\n",
       "         9.84506011e-02, -6.20415151e-01,  8.25574547e-02,\n",
       "         4.35668863e-02,  1.27699926e-01],\n",
       "       [ 2.62911797e+00, -2.00514585e-01, -2.62453586e-01,\n",
       "        -3.45514864e-01,  3.09263897e+00, -2.64604545e+00,\n",
       "         3.24762821e+00,  1.25046149e-01],\n",
       "       [-5.55919051e-01, -6.79866448e-02,  1.38644557e-02,\n",
       "        -2.03295909e-02, -1.10242164e+00,  9.50074121e-02,\n",
       "         9.00351778e-02, -3.21974792e-02],\n",
       "       [ 9.09394443e-01, -1.70521457e-02, -2.57182449e-01,\n",
       "        -1.71815470e-01, -2.58540750e-01,  1.09317534e-01,\n",
       "        -8.39842185e-02,  2.40567684e-01],\n",
       "       [ 1.39395320e+00, -1.04074031e-02,  6.52556866e-02,\n",
       "         6.92900037e-03, -3.93290408e-02, -4.80617955e-02,\n",
       "        -5.62550314e-02, -5.78375645e-02],\n",
       "       [ 2.83457541e+00, -1.15855262e-01, -1.71918571e-02,\n",
       "        -9.14377347e-02,  2.01801109e+00,  1.14253707e-01,\n",
       "        -3.44129026e-01, -1.22353576e-01],\n",
       "       [-9.45213914e-01, -1.46621503e-02, -7.88834095e-02,\n",
       "        -1.13476617e-02, -7.47090816e-01, -2.59024706e-02,\n",
       "        -7.33368390e-04, -1.13702044e-01],\n",
       "       [ 2.60858774e+00, -5.98888658e-02,  1.44251183e-01,\n",
       "        -2.40383185e-02,  2.31470251e+00, -4.90076125e-01,\n",
       "        -2.05849126e-01,  1.89288929e-01],\n",
       "       [-1.89190090e+00, -3.29338312e-02, -1.06715403e-01,\n",
       "         1.49361957e-02, -9.63026166e-01,  7.19673857e-02,\n",
       "         1.19444793e-02, -9.63644087e-02],\n",
       "       [-2.47706032e+00,  4.60786447e-02, -1.34365052e-01,\n",
       "         3.34289931e-02, -1.52924538e+00,  1.01336576e-01,\n",
       "         8.97220075e-02, -3.87934558e-02],\n",
       "       [-1.34258294e+00, -4.01571803e-02, -2.66792048e-02,\n",
       "        -2.12700516e-02, -1.28859234e+00,  7.50888661e-02,\n",
       "         8.65057632e-02, -3.95260938e-02],\n",
       "       [-1.41489863e+00,  2.19370071e-02,  1.79373845e-01,\n",
       "        -7.30455518e-02, -1.25482285e+00,  4.24109921e-02,\n",
       "         1.31896675e-01,  1.71038181e-01],\n",
       "       [ 1.62129760e+00,  2.21077874e-01,  1.00167453e-01,\n",
       "        -1.10244048e+00,  4.34129983e-01, -1.47780642e-01,\n",
       "        -1.97003454e-01, -3.17556798e-01],\n",
       "       [ 1.68866706e+00,  7.92055503e-02,  1.60823087e-03,\n",
       "         1.71092361e-01,  2.00924850e+00, -6.47021383e-02,\n",
       "        -6.28193498e-01,  2.87428021e+00],\n",
       "       [ 1.31508267e+00, -3.62522230e-02,  3.49007137e-02,\n",
       "        -1.24353240e-03, -2.85973698e-01,  4.82114218e-02,\n",
       "        -2.17783544e-02, -9.87740979e-02],\n",
       "       [ 3.90257597e+00, -1.20824628e-01,  2.20465753e-02,\n",
       "        -1.00048371e-01,  5.45159435e+00, -2.53297001e-01,\n",
       "        -4.75923657e-01, -3.51112157e-01],\n",
       "       [ 1.28528857e+00, -4.61615389e-03,  8.06876997e-05,\n",
       "        -3.01723704e-02,  6.54863298e-01, -5.00826165e-02,\n",
       "        -1.58768132e-01, -1.44474849e-01],\n",
       "       [ 2.49040174e+00, -1.47040740e-01, -5.16084116e-03,\n",
       "        -1.32832229e-01,  2.18423271e+00, -4.00986195e-01,\n",
       "        -1.91433251e-01, -6.31107111e-03],\n",
       "       [ 2.19644809e+00, -4.30548415e-02,  9.02682841e-02,\n",
       "        -5.85818551e-02,  8.90843391e-01, -1.10353656e-01,\n",
       "        -9.39431041e-02,  7.79599771e-02],\n",
       "       [-2.09208465e+00,  2.03665234e-02, -7.36982301e-02,\n",
       "         1.35950446e-02, -1.24277914e+00,  7.86762536e-02,\n",
       "         8.54749903e-02, -5.72501794e-02],\n",
       "       [-5.53933024e-01, -6.68967664e-02, -3.66927743e-01,\n",
       "        -9.74633619e-02, -7.45400667e-01,  2.03163445e-01,\n",
       "        -9.53120589e-02,  2.08957493e-03],\n",
       "       [-2.51277804e+00,  2.53131747e-01, -1.29207563e+00,\n",
       "        -1.10927500e-01, -1.27651608e+00,  1.56777561e-01,\n",
       "         7.26048946e-02,  1.20997801e-01],\n",
       "       [-1.68989992e+00, -5.14200516e-02,  1.53679341e-01,\n",
       "        -1.53587256e-02, -1.42022049e+00,  1.24463163e-01,\n",
       "         5.98373450e-02, -5.07244887e-03],\n",
       "       [ 9.14990366e-01,  4.90790904e-02, -9.45908129e-02,\n",
       "         1.18183054e-03,  1.00835413e-01, -9.16312411e-02,\n",
       "        -8.37671980e-02, -3.24644074e-02],\n",
       "       [-1.68880951e+00, -8.28797072e-02,  1.05764434e-01,\n",
       "        -4.14906442e-02, -1.13054335e+00,  1.06736690e-01,\n",
       "         5.96609935e-02, -3.53292562e-02],\n",
       "       [ 9.53558564e-01, -2.76813805e-01, -1.94810659e-01,\n",
       "        -1.59087524e-01, -6.48304401e-03, -8.12698379e-02,\n",
       "        -1.68979749e-01, -7.33809173e-02],\n",
       "       [-1.69322896e+00, -1.43156033e-02, -2.49030050e-02,\n",
       "         2.90150717e-02, -1.22461212e+00,  1.11818351e-01,\n",
       "         5.63629419e-02,  5.41871153e-02],\n",
       "       [ 3.42209674e-02, -1.17111780e-01,  1.56755242e-02,\n",
       "         1.01340832e-02, -7.10360825e-01,  6.82337061e-02,\n",
       "         4.59357724e-02, -3.44439084e-03],\n",
       "       [-7.49805927e-01, -1.27299115e-01, -9.17729661e-02,\n",
       "        -4.25307155e-02, -1.09475839e+00,  4.77151535e-02,\n",
       "         1.04735091e-01, -5.75339124e-02],\n",
       "       [ 7.84471154e-01, -9.10053775e-02, -1.23331219e-01,\n",
       "         4.95157205e-02, -2.24012718e-01, -4.40000594e-02,\n",
       "        -1.35791391e-01, -7.58788288e-02],\n",
       "       [ 1.08426595e+00,  8.31861645e-02,  1.46911383e-01,\n",
       "        -2.88714707e-01, -1.75478399e-01,  5.91960624e-02,\n",
       "        -7.09310581e-04,  1.33243710e-01],\n",
       "       [-2.27190569e-01, -1.77380338e-01, -5.15039340e-02,\n",
       "        -8.82351324e-02, -6.30281270e-01,  7.08197430e-02,\n",
       "         7.41709992e-02, -1.31885305e-01],\n",
       "       [-1.42730713e+00,  7.47409984e-02,  3.24292928e-02,\n",
       "         4.46724705e-02, -8.76137793e-01,  1.05249606e-01,\n",
       "         6.49861107e-03,  2.93609826e-03],\n",
       "       [-1.98985195e+00, -1.46088637e-02, -1.12956271e-01,\n",
       "        -2.17348430e-03, -1.04461539e+00,  9.77825820e-02,\n",
       "        -1.88369397e-03, -9.01017413e-02],\n",
       "       [ 1.07293770e-01, -1.51018456e-01, -6.10333942e-02,\n",
       "         3.29324268e-02, -4.43475455e-01, -5.61048416e-03,\n",
       "        -4.78994325e-02, -9.34232771e-02],\n",
       "       [-1.61853123e+00, -2.75451746e-02,  1.14651553e-01,\n",
       "        -3.08039468e-02, -1.01803827e+00,  9.05041695e-02,\n",
       "         4.55103740e-02,  8.30718800e-02],\n",
       "       [-1.84005415e+00, -1.26925543e-01,  4.50392753e-01,\n",
       "        -8.93332660e-02, -1.12950230e+00, -2.64465176e-02,\n",
       "         6.62287697e-02, -1.01776877e-02],\n",
       "       [ 9.27156627e-01, -9.45310667e-02, -5.14793023e-02,\n",
       "         1.46455497e-01,  2.07226858e-01, -3.79729178e-03,\n",
       "        -1.86428875e-01, -7.74123445e-02],\n",
       "       [ 9.54488218e-01, -2.34745950e-01,  8.84522870e-02,\n",
       "         1.99892282e-01,  8.24727654e-01, -1.58037052e-01,\n",
       "        -1.34206504e-01,  9.65868235e-02],\n",
       "       [-1.11662197e+00, -2.25350171e-01, -1.42650798e-01,\n",
       "         3.16582099e-02, -8.69445026e-01,  2.58053601e-01,\n",
       "         1.57716256e-02, -1.99752804e-02],\n",
       "       [ 1.57157898e+00, -4.94508058e-01, -4.16536778e-01,\n",
       "        -5.35523951e-01, -2.27966666e-01,  8.55344236e-02,\n",
       "        -1.84167679e-02,  1.12647101e-01],\n",
       "       [-1.05415320e+00, -1.52442336e-01, -6.96968138e-02,\n",
       "        -2.87972242e-01, -1.30424213e+00,  6.30636141e-02,\n",
       "        -2.32776422e-02,  1.27176940e-01],\n",
       "       [-3.06248450e+00,  9.21605807e-03, -6.96271211e-02,\n",
       "         9.16597545e-02, -1.63668180e+00,  8.65463465e-02,\n",
       "         1.01133019e-01,  1.13009848e-01],\n",
       "       [-2.10763264e+00, -6.04470670e-01,  5.03820467e+00,\n",
       "        -7.44009078e-01,  3.48330283e+00, -4.43308085e-01,\n",
       "        -5.87066650e-01, -1.74408281e+00],\n",
       "       [-1.46823251e+00,  2.35254057e-02, -1.60721447e-02,\n",
       "         1.12888711e-02, -1.16932642e+00,  5.79931512e-02,\n",
       "         8.00808519e-02,  7.77118951e-02],\n",
       "       [ 6.70593143e-01, -1.41721368e-01, -6.58794641e-02,\n",
       "         3.17984596e-02, -2.23651245e-01,  6.14871457e-02,\n",
       "         5.33201620e-02, -1.26308486e-01],\n",
       "       [ 2.97355700e+00, -1.14453018e-01,  2.55979806e-01,\n",
       "        -1.85655981e-01,  2.75520205e+00, -4.11889672e-01,\n",
       "        -4.64088827e-01, -9.33175161e-02],\n",
       "       [ 7.13625193e-01, -1.29894599e-01, -6.48827180e-02,\n",
       "         1.00020021e-01, -3.70784581e-01,  1.17365144e-01,\n",
       "         8.02663639e-02, -3.69872190e-02],\n",
       "       [-1.96983159e+00,  6.78035915e-02, -8.48880783e-02,\n",
       "        -1.06666265e-02, -1.26844037e+00,  6.16954938e-02,\n",
       "         9.55427364e-02, -7.94882029e-02],\n",
       "       [-2.31392193e+00, -8.74688178e-02, -3.90528381e-01,\n",
       "         1.96719900e-01, -1.14180994e+00,  4.09780219e-02,\n",
       "         1.00343816e-01,  9.49499309e-02],\n",
       "       [-1.56034505e+00, -9.28422734e-02,  5.81243858e-02,\n",
       "        -1.04912780e-02, -1.28218615e+00,  4.27679755e-02,\n",
       "         7.00394064e-02,  6.34996817e-02],\n",
       "       [-1.42788160e+00, -8.95768180e-02,  1.23053134e-04,\n",
       "        -1.13305906e-02, -8.94035935e-01,  1.00781359e-01,\n",
       "         2.92777941e-02, -6.63130432e-02],\n",
       "       [ 3.96012640e+00,  2.21221037e-02,  9.38149076e-03,\n",
       "        -5.17623574e-02,  1.08349199e+01,  3.15664649e+00,\n",
       "         1.89725959e+00,  3.84004116e-02],\n",
       "       [-1.02862740e+00, -5.04244156e-02, -3.15376855e-02,\n",
       "        -9.24694911e-02, -1.13372421e+00,  1.16607100e-01,\n",
       "        -6.12593740e-02,  7.48873316e-03],\n",
       "       [-2.17494607e+00,  1.41209839e-02, -7.97054395e-02,\n",
       "         5.01087122e-03, -1.82283449e+00,  1.07298210e-01,\n",
       "         1.12413578e-01,  3.95841748e-02],\n",
       "       [ 3.16513371e+00,  8.66428856e-03,  6.66936766e-03,\n",
       "        -1.21050328e-01,  2.08703876e+00, -1.08054183e-01,\n",
       "         1.14154004e-01,  1.93859890e-01],\n",
       "       [-1.58686805e+00,  5.49731497e-03,  7.39482194e-02,\n",
       "        -1.00941081e-02, -8.90626490e-01,  2.01500446e-01,\n",
       "        -3.12148090e-02, -9.91965458e-02],\n",
       "       [ 1.29589045e+00, -2.75960974e-02, -1.56127498e-01,\n",
       "         1.64630100e-01,  5.02979934e-01,  9.68863145e-02,\n",
       "        -1.83303908e-01,  1.48800211e-02],\n",
       "       [ 9.59985495e-01,  5.81236836e-03, -1.76057711e-01,\n",
       "         3.05384517e-01, -4.16181266e-01,  1.06957547e-01,\n",
       "         1.16867319e-01,  1.67018510e-02],\n",
       "       [ 3.57840919e+00, -1.13119557e-01, -2.49402653e-02,\n",
       "         8.99958536e-02,  2.55075860e+00, -1.71791375e-01,\n",
       "        -6.01194084e-01,  9.21724737e-02],\n",
       "       [ 2.04496932e+00, -2.97465354e-01, -4.53529865e-01,\n",
       "         3.45985591e-01,  1.09763455e+00, -4.26924415e-02,\n",
       "        -5.39393604e-01,  1.20350234e-02],\n",
       "       [-6.73353076e-02,  7.39921704e-02, -1.17003009e-01,\n",
       "         2.71234959e-02, -4.09671217e-01,  1.42610475e-01,\n",
       "        -9.65291355e-03,  7.76497573e-02],\n",
       "       [-2.22155619e+00,  1.46535650e-01, -4.44653511e-01,\n",
       "        -9.66404825e-02, -1.00784552e+00,  5.86493164e-02,\n",
       "         2.45844256e-02, -2.64583826e-02],\n",
       "       [-6.97947562e-01, -3.51175442e-02, -1.88886255e-01,\n",
       "         5.96756898e-02, -7.78456569e-01,  5.55450134e-02,\n",
       "         5.48616759e-02, -4.32203896e-02],\n",
       "       [ 8.87726843e-01, -3.19699317e-01,  3.29733998e-01,\n",
       "        -5.06136060e-01, -1.25406936e-01, -1.29051685e-01,\n",
       "        -1.01851998e-03, -1.30903259e-01],\n",
       "       [-1.73915923e+00, -2.71076523e-02, -1.02458172e-01,\n",
       "         4.71394211e-02, -1.08797228e+00,  8.13844502e-02,\n",
       "         2.74012648e-02, -4.70118634e-02],\n",
       "       [ 1.31556404e+00, -1.15984611e-01,  6.38042688e-02,\n",
       "         1.72630213e-02,  1.94228575e-01,  2.63439231e-02,\n",
       "        -7.76897147e-02, -1.03507288e-01],\n",
       "       [-1.45913708e+00, -2.94218510e-02, -3.63048613e-02,\n",
       "        -1.44736925e-02, -1.18316901e+00,  1.04070842e-01,\n",
       "         5.47331944e-02, -1.43428762e-02],\n",
       "       [-1.76515377e+00, -1.79967545e-02, -7.24102557e-02,\n",
       "        -5.76129463e-03, -1.53605020e+00,  1.07214719e-01,\n",
       "         9.58336070e-02,  2.20301840e-02],\n",
       "       [ 1.01934469e+00,  1.53939247e-01,  7.96312869e-01,\n",
       "         5.16387987e+00,  2.75670648e-01, -3.73120941e-02,\n",
       "         8.35365206e-02,  7.09421188e-02],\n",
       "       [-2.09619570e+00,  5.65026589e-02, -1.10954165e-01,\n",
       "        -6.67925701e-02, -1.51816320e+00,  7.00665191e-02,\n",
       "         7.49913305e-02, -9.43996757e-03],\n",
       "       [-1.71010327e+00, -1.17590383e-01,  4.36284766e-02,\n",
       "        -2.40567382e-02, -1.40264034e+00,  9.15981680e-02,\n",
       "         1.12336077e-01, -9.06049088e-03],\n",
       "       [-1.07076252e+00,  3.53004411e-02, -1.68619946e-01,\n",
       "        -7.65033588e-02, -9.90694642e-01,  7.21918121e-02,\n",
       "        -4.39164266e-02, -4.48951423e-02],\n",
       "       [ 7.88193941e-01,  7.11628437e+00,  4.25346136e-01,\n",
       "        -2.29393259e-01,  3.23055863e-01, -2.29183853e-01,\n",
       "         3.56864603e-03, -1.24403767e-01],\n",
       "       [-6.06377900e-01, -6.31521121e-02, -1.09738298e-01,\n",
       "        -7.92145655e-02, -8.84395003e-01,  2.52307113e-02,\n",
       "        -2.97777895e-02, -1.56534195e-01],\n",
       "       [-9.42543864e-01,  2.46781278e-02, -1.64562631e-02,\n",
       "        -5.55562926e-03, -1.01697350e+00,  6.88054338e-02,\n",
       "         3.32316384e-02, -4.62511703e-02],\n",
       "       [ 3.38985944e+00, -1.49796769e-01,  1.14754535e-01,\n",
       "        -1.33170828e-01,  2.59480000e+00, -3.71686608e-01,\n",
       "        -3.66000950e-01,  2.56406516e-01],\n",
       "       [ 1.77591288e+00, -7.12468848e-02,  1.05558120e-01,\n",
       "        -1.01291679e-01,  7.43272603e-01,  3.76912132e-02,\n",
       "        -3.30421813e-02, -1.65698275e-01],\n",
       "       [-1.38009560e+00, -2.07805336e-02,  7.72729293e-02,\n",
       "        -9.43473913e-03, -1.84482729e+00,  9.50658098e-02,\n",
       "         1.78449720e-01,  1.99600562e-01],\n",
       "       [-1.65624571e+00, -4.68713865e-02,  2.87487227e-02,\n",
       "         4.73692603e-02, -1.04950452e+00,  1.28265902e-01,\n",
       "         8.99341702e-02, -9.17567238e-02],\n",
       "       [-3.07280278e+00, -1.38021102e-02, -5.00574589e-01,\n",
       "        -6.89796954e-02, -1.67073333e+00, -1.06570549e-01,\n",
       "         3.64755750e-01,  2.47000873e-01],\n",
       "       [ 3.10436153e+00, -1.13414146e-01,  3.96494642e-02,\n",
       "        -2.19189785e-02,  2.95164680e+00, -3.07657540e-01,\n",
       "        -3.94753575e-01, -2.59506106e-02],\n",
       "       [-2.84178877e+00,  3.01983636e-02, -1.04338899e-01,\n",
       "         8.25590547e-03, -1.24271810e+00,  4.21740562e-02,\n",
       "         1.84258521e-01, -6.34633005e-02],\n",
       "       [-2.00638771e+00, -3.13361473e-02, -1.07974760e-01,\n",
       "         1.90427676e-02,  8.27528667e+00, -8.80028307e-01,\n",
       "        -8.80523264e-01,  3.85855258e-01],\n",
       "       [-1.00620949e+00, -5.05554769e-03, -6.83609098e-02,\n",
       "         2.19476204e-02, -1.01713586e+00,  8.25632885e-02,\n",
       "         3.34934480e-02, -5.48185296e-02],\n",
       "       [ 5.90606272e-01,  2.69767456e-02,  3.42476554e-02,\n",
       "         4.17253096e-03, -3.84639472e-01,  6.48106039e-02,\n",
       "         5.95491454e-02,  8.09075609e-02],\n",
       "       [ 2.50651956e+00, -2.44285151e-01,  6.41967714e-01,\n",
       "        -3.19833666e-01,  1.42775834e+00, -5.50579548e-01,\n",
       "        -2.85274595e-01,  9.01606828e-02],\n",
       "       [-5.24082720e-01, -1.34528121e-02, -1.81664005e-01,\n",
       "         1.52554689e-02, -9.38635290e-01,  3.69978510e-02,\n",
       "         6.08051084e-02,  8.41853097e-02]], dtype=float32)"
      ]
     },
     "execution_count": 21,
     "metadata": {},
     "output_type": "execute_result"
    }
   ],
   "source": [
    "# combined PCs\n",
    "\n",
    "ch_pcs = ch_adata.obsm['X_pca'][:, :ch_n_components]\n",
    "cg_pcs = cg_adata.obsm['X_pca'][:, :cg_n_components]\n",
    "\n",
    "# scale the PCs so CH and CG PCs has the same total var\n",
    "cg_pcs = cg_pcs / cg_pcs.std()\n",
    "ch_pcs = ch_pcs / ch_pcs.std()\n",
    "\n",
    "# total_pcs\n",
    "total_pcs = np.hstack([ch_pcs, cg_pcs])\n",
    "total_pcs"
   ]
  },
  {
   "cell_type": "code",
   "execution_count": 23,
   "id": "0262f1ea-0f52-4b77-a5d9-6823821c332f",
   "metadata": {},
   "outputs": [],
   "source": [
    "# make a copy of adata, add new pcs\n",
    "# this is suboptimal, will change this when adata can combine layer and X in the future\n",
    "adata = ch_adata.copy()"
   ]
  },
  {
   "cell_type": "code",
   "execution_count": 24,
   "id": "8f205d25-3056-4d17-b1cc-19ef90adef19",
   "metadata": {},
   "outputs": [],
   "source": [
    "adata.obsm['X_pca'] = total_pcs\n",
    "del adata.uns['pca']\n",
    "del adata.varm['PCs']"
   ]
  },
  {
   "cell_type": "code",
   "execution_count": 25,
   "id": "257e31d7-d599-4737-b771-7105e7fa13b8",
   "metadata": {},
   "outputs": [],
   "source": [
    "# Manifold learing\n",
    "\n",
    "tsne(adata,\n",
    "     obsm='X_pca',\n",
    "     metric='euclidean',\n",
    "     exaggeration=-1,  # auto determined\n",
    "     perplexity=30,\n",
    "     n_jobs=-1)"
   ]
  },
  {
   "cell_type": "code",
   "execution_count": 26,
   "id": "ff6f3af7-f73e-4112-8040-465bed000368",
   "metadata": {},
   "outputs": [
    {
     "data": {
      "image/png": "[encoded data removed]",
      "text/plain": [
       "<Figure size 1000x1000 with 1 Axes>"
      ]
     },
     "metadata": {},
     "output_type": "display_data"
    }
   ],
   "source": [
    "fig, ax = plt.subplots(figsize=(4, 4), dpi=250)\n",
    "_ = categorical_scatter(data=adata, ax=ax, coord_base='tsne', hue=pre_cluster_name, show_legend=True)\n"
   ]
  },
  {
   "cell_type": "code",
   "execution_count": 27,
   "id": "08cfc27f-b43b-491f-86d6-01fef5fa7364",
   "metadata": {},
   "outputs": [],
   "source": [
    "# Save the plot\n",
    "fig.savefig(\"05f_tSNE_chrom100K_bothmC_plot.png\")\n"
   ]
  },
  {
   "cell_type": "code",
   "execution_count": 28,
   "id": "95bee8d2-6d14-4e32-8604-d92e1fa1f74c",
   "metadata": {},
   "outputs": [],
   "source": [
    "# UMAP\n",
    "\n",
    "sc.pp.neighbors(adata)\n",
    "try:\n",
    "    sc.tl.paga(adata, groups=pre_cluster_name)\n",
    "    sc.pl.paga(adata, plot=False)\n",
    "    sc.tl.umap(adata, init_pos='paga')\n",
    "except:\n",
    "    sc.tl.umap(adata)"
   ]
  },
  {
   "cell_type": "code",
   "execution_count": 29,
   "id": "be9297e6-ccdb-44d2-988c-780a35746085",
   "metadata": {},
   "outputs": [
    {
     "data": {
      "image/png": "[encoded data removed]",
      "text/plain": [
       "<Figure size 1000x1000 with 1 Axes>"
      ]
     },
     "metadata": {},
     "output_type": "display_data"
    }
   ],
   "source": [
    "fig, ax = plt.subplots(figsize=(4, 4), dpi=250)\n",
    "_ = categorical_scatter(data=adata, ax=ax, coord_base='umap', hue=pre_cluster_name, show_legend=True)"
   ]
  },
  {
   "cell_type": "code",
   "execution_count": 30,
   "id": "a02ec2f7-05e6-4f60-acce-e61b7bac315d",
   "metadata": {},
   "outputs": [],
   "source": [
    "# Save the plot\n",
    "fig.savefig(\"05f_UMAP_chrom100K_bothmC_plot.png\")\n"
   ]
  },
  {
   "cell_type": "code",
   "execution_count": 35,
   "id": "51e93fa2-dd22-4813-bb3d-3433cb0a395b",
   "metadata": {},
   "outputs": [],
   "source": [
    "# Save the plot as an HTML file\n",
    "\n",
    "### this chunck of code is to run the inetractive_scatter function and save it as html file\n",
    "import plotly.express as px\n",
    "import plotly.io as pio\n",
    "from ALLCools.plot import interactive_scatter"
   ]
  },
  {
   "cell_type": "code",
   "execution_count": 37,
   "id": "37ab8401-325c-4a41-a589-86fe68f9e2d5",
   "metadata": {},
   "outputs": [
    {
     "name": "stderr",
     "output_type": "stream",
     "text": [
      "/share/lasallelab/Ensi/anaconda3/lib/python3.11/site-packages/plotly/express/_core.py:1958: FutureWarning:\n",
      "\n",
      "The default of observed=False is deprecated and will be changed to True in a future version of pandas. Pass observed=False to retain current behavior or observed=True to adopt the future default and silence this warning.\n",
      "\n"
     ]
    },
    {
     "data": {
      "application/vnd.plotly.v1+json": {
       "config": {
        "plotlyServerURL": "https://plot.ly"
       },
       "data": [
        {
         "customdata": [
          [
           "4636344664PO1NC5L9C"
          ],
          [
           "4139144650PO3NC3E3C"
          ],
          [
           "4566944700PO3NC4A9C"
          ],
          [
           "4265145042PO2NC4N4S"
          ],
          [
           "4499445005PO2NC3C5C"
          ],
          [
           "4146044643PO2NC5P3C"
          ],
          [
           "4520844650PO2NC3B7S"
          ],
          [
           "4146044643SO2NC1M3C"
          ],
          [
           "4302844664SO1NC1H5C"
          ],
          [
           "3889744643SO3NC1C2S"
          ],
          [
           "4302844664SO2NC1I5C"
          ],
          [
           "4139144650SO3NC1D3C"
          ],
          [
           "4566944700SO3NC1N8C"
          ],
          [
           "4499445005SO1NC1P5C"
          ],
          [
           "4636344914SO2NC1G9C"
          ],
          [
           "4146044643SO3NC1N3C"
          ],
          [
           "4123744641SO3NC1M2S"
          ],
          [
           "4566944964SO3NC1A8C"
          ],
          [
           "4305144931SO1NC1L5S"
          ],
          [
           "4139144650SO2NC1C4C"
          ],
          [
           "4520844650SO2NC1O6S"
          ],
          [
           "4566944700SO2NC1M8C"
          ]
         ],
         "hovertemplate": "leiden=2<br>umap_0=%{x}<br>umap_1=%{y}<br>obs_names=%{customdata[0]}<extra></extra>",
         "legendgroup": "2",
         "marker": {
          "color": "#636efa",
          "size": 5,
          "symbol": "circle"
         },
         "mode": "markers",
         "name": "2",
         "orientation": "v",
         "showlegend": true,
         "type": "scatter",
         "x": [
          3.831127882003784,
          4.555797576904297,
          5.008332252502441,
          7.088883399963379,
          4.901505947113037,
          4.8023223876953125,
          4.619840145111084,
          3.6784915924072266,
          3.937869071960449,
          3.5173256397247314,
          5.291788101196289,
          4.3584089279174805,
          3.7302467823028564,
          7.353141784667969,
          4.782217025756836,
          4.064167022705078,
          5.079728603363037,
          4.633604049682617,
          4.507557392120361,
          3.2828238010406494,
          3.883380889892578,
          4.016055583953857
         ],
         "xaxis": "x",
         "y": [
          -0.3875621557235718,
          -0.6211060881614685,
          0.7217352986335754,
          15.131312370300293,
          1.4623714685440063,
          -0.3763957619667053,
          -0.3108777105808258,
          -0.5095595717430115,
          0.7243180274963379,
          0.25325390696525574,
          1.156911015510559,
          0.8421019911766052,
          0.4215897023677826,
          14.241377830505371,
          -0.013576132245361805,
          -0.138826385140419,
          1.3235995769500732,
          1.4890036582946777,
          0.3818543553352356,
          -0.7123196125030518,
          -0.978771984577179,
          1.1866408586502075
         ],
         "yaxis": "y"
        },
        {
         "customdata": [
          [
           "4598245001PO2NC4F8C"
          ],
          [
           "4598244908PO2NC4K8C"
          ],
          [
           "4660644938PO2NC3A10C"
          ],
          [
           "4598245001PO1NC3E9C"
          ],
          [
           "4660644993PO2NC5D10C"
          ],
          [
           "4566944964PO4NC3E8C"
          ],
          [
           "3905345005PO1NC2I1S"
          ],
          [
           "4139144923PO4NC4K3C"
          ],
          [
           "4247344998PO1NC2I4S"
          ],
          [
           "4139144923PO3NC5J3C"
          ],
          [
           "4660644938PO1NC4P9C"
          ],
          [
           "4129944963PO3NC3O1S"
          ],
          [
           "4146045001PO2NC3F4C"
          ],
          [
           "4566944964PO3NC3D8C"
          ],
          [
           "4636344914SO3NC1I6C"
          ],
          [
           "3905345005SO1NC1J1S"
          ],
          [
           "3905345005SO2NC1K1S"
          ],
          [
           "4139144923SO1NC1O2C"
          ],
          [
           "4139144923SO2NC1P2C"
          ],
          [
           "4566944700SO1NC1L8C"
          ],
          [
           "4499445005SO3NC1D6C"
          ],
          [
           "4456444991SO1NC1E6C"
          ]
         ],
         "hovertemplate": "leiden=1<br>umap_0=%{x}<br>umap_1=%{y}<br>obs_names=%{customdata[0]}<extra></extra>",
         "legendgroup": "1",
         "marker": {
          "color": "#EF553B",
          "size": 5,
          "symbol": "circle"
         },
         "mode": "markers",
         "name": "1",
         "orientation": "v",
         "showlegend": true,
         "type": "scatter",
         "x": [
          8.840456008911133,
          8.285110473632812,
          8.43777084350586,
          6.928848743438721,
          8.214889526367188,
          8.811119079589844,
          8.578289985656738,
          9.100638389587402,
          7.432077407836914,
          7.6786041259765625,
          7.21187686920166,
          6.238274097442627,
          7.589389324188232,
          8.855579376220703,
          6.657665252685547,
          6.284982681274414,
          7.311941146850586,
          6.431294918060303,
          6.836350917816162,
          8.720439910888672,
          6.5456132888793945,
          8.705474853515625
         ],
         "xaxis": "x",
         "y": [
          15.151232719421387,
          15.170360565185547,
          16.373525619506836,
          16.581554412841797,
          15.956454277038574,
          15.04470443725586,
          16.333316802978516,
          15.17463207244873,
          16.63215446472168,
          16.8487491607666,
          16.377243041992188,
          16.17879295349121,
          16.80495262145996,
          15.703584671020508,
          16.805282592773438,
          16.00045394897461,
          17.367877960205078,
          16.764877319335938,
          17.21466636657715,
          14.383318901062012,
          16.424392700195312,
          16.730863571166992
         ],
         "yaxis": "y"
        },
        {
         "customdata": [
          [
           "4566944700PO2NC5P8C"
          ],
          [
           "4146044643PO3NC5A4C"
          ],
          [
           "4146045001PO1NC5E4C"
          ],
          [
           "4211144957PO2NC3L4C"
          ],
          [
           "4139144650PO1NC4F3C"
          ],
          [
           "4265145042PO3NC4G5S"
          ],
          [
           "4660644938PO3NC5B10C"
          ],
          [
           "4598244908SO2NC1H8C"
          ],
          [
           "4146045001SO3NC1D4C"
          ],
          [
           "4421844676SO2NC1K6S"
          ],
          [
           "3889744700SO1NC1E1S"
          ]
         ],
         "hovertemplate": "leiden=5<br>umap_0=%{x}<br>umap_1=%{y}<br>obs_names=%{customdata[0]}<extra></extra>",
         "legendgroup": "5",
         "marker": {
          "color": "#00cc96",
          "size": 5,
          "symbol": "circle"
         },
         "mode": "markers",
         "name": "5",
         "orientation": "v",
         "showlegend": true,
         "type": "scatter",
         "x": [
          9.125015258789062,
          8.547327041625977,
          9.687681198120117,
          9.591057777404785,
          8.973475456237793,
          9.215210914611816,
          10.024615287780762,
          9.222166061401367,
          8.730913162231445,
          9.700275421142578,
          9.480215072631836
         ],
         "xaxis": "x",
         "y": [
          9.325626373291016,
          7.3515191078186035,
          9.385334014892578,
          9.618151664733887,
          8.330117225646973,
          10.16165828704834,
          9.508671760559082,
          8.516386032104492,
          8.042558670043945,
          8.935064315795898,
          8.774272918701172
         ],
         "yaxis": "y"
        },
        {
         "customdata": [
          [
           "4520844650PO1NC5A7S"
          ],
          [
           "4146045001PO3NC4G4C"
          ],
          [
           "4139144923PO2NC3I3C"
          ],
          [
           "4520844650PO3NC5C8S"
          ],
          [
           "4636344914PO1NC4H9C"
          ],
          [
           "4265145042PO1NC3E5S"
          ],
          [
           "4139144650PO2NC4G3C"
          ],
          [
           "4146044643PO1NC5O3C"
          ],
          [
           "4598244908PO1NC3J8C"
          ],
          [
           "3889744700SO4NC1H1S"
          ],
          [
           "3889744700SO3NC1G1S"
          ],
          [
           "3889744643SO2NC1B1S"
          ],
          [
           "4660644938SO2NC1N9C"
          ],
          [
           "4146045001SO1NC1B4C"
          ],
          [
           "4211144957SO3NC1J4C"
          ],
          [
           "4123744641SO2NC1L2S"
          ],
          [
           "4146045001SO2NC1C3C"
          ],
          [
           "4520844650SO1NC1N6S"
          ],
          [
           "4598245001SO1NC1B9C"
          ],
          [
           "4211144957SO2NC1B5C"
          ]
         ],
         "hovertemplate": "leiden=3<br>umap_0=%{x}<br>umap_1=%{y}<br>obs_names=%{customdata[0]}<extra></extra>",
         "legendgroup": "3",
         "marker": {
          "color": "#ab63fa",
          "size": 5,
          "symbol": "circle"
         },
         "mode": "markers",
         "name": "3",
         "orientation": "v",
         "showlegend": true,
         "type": "scatter",
         "x": [
          8.205190658569336,
          7.49812126159668,
          7.685315132141113,
          8.048089981079102,
          7.291823863983154,
          6.895778656005859,
          7.740345478057861,
          8.087593078613281,
          6.545869827270508,
          7.49789571762085,
          7.5453386306762695,
          6.253266334533691,
          7.479157447814941,
          6.89310359954834,
          7.217985153198242,
          6.471772193908691,
          7.990604400634766,
          6.79914665222168,
          6.76153564453125,
          7.854237079620361
         ],
         "xaxis": "x",
         "y": [
          5.592746257781982,
          4.693768501281738,
          5.540018081665039,
          5.242921352386475,
          5.840239524841309,
          4.424798011779785,
          6.432694435119629,
          5.996227741241455,
          5.683487892150879,
          6.9958415031433105,
          5.560266494750977,
          4.2556633949279785,
          4.308407783508301,
          5.052632808685303,
          6.520331382751465,
          4.700291156768799,
          6.740489959716797,
          5.348287582397461,
          4.868658542633057,
          6.440371990203857
         ],
         "yaxis": "y"
        },
        {
         "customdata": [
          [
           "4139144923PO1NC3H3C"
          ],
          [
           "4566944700PO1NC5O8C"
          ],
          [
           "4123744641PO1NC4N2S"
          ],
          [
           "4302844664PO2NC5K5C"
          ],
          [
           "4456444991PO1NC3H6C"
          ],
          [
           "4146044643SO1NC1L3C"
          ],
          [
           "4123744641SO1NC1K2S"
          ],
          [
           "4421844676SO1NC1J6S"
          ],
          [
           "4636344914SO1NC1F9C"
          ],
          [
           "3889744643SO1NC1A1S"
          ],
          [
           "4660644938SO1NC1M9C"
          ],
          [
           "4129944963SO1NC1P1S"
          ],
          [
           "4302844664SO3NC1J5C"
          ],
          [
           "4265145042SO3NC1F5S"
          ],
          [
           "4636344664SO2NC1J9C"
          ],
          [
           "4520844650SO3NC1P6S"
          ],
          [
           "4421844676SO3NC1L6S"
          ],
          [
           "4566944964SO1NC1O7C"
          ]
         ],
         "hovertemplate": "leiden=4<br>umap_0=%{x}<br>umap_1=%{y}<br>obs_names=%{customdata[0]}<extra></extra>",
         "legendgroup": "4",
         "marker": {
          "color": "#FFA15A",
          "size": 5,
          "symbol": "circle"
         },
         "mode": "markers",
         "name": "4",
         "orientation": "v",
         "showlegend": true,
         "type": "scatter",
         "x": [
          1.6941465139389038,
          3.0319135189056396,
          2.9349424839019775,
          1.7290810346603394,
          2.4225780963897705,
          1.6960359811782837,
          2.590125322341919,
          1.3181248903274536,
          2.628279447555542,
          1.8922408819198608,
          2.1463568210601807,
          2.1512999534606934,
          3.472810745239258,
          3.1197094917297363,
          2.190561056137085,
          1.3567222356796265,
          1.4044129848480225,
          6.830511569976807
         ],
         "xaxis": "x",
         "y": [
          -0.42124050855636597,
          1.153388261795044,
          1.0413520336151123,
          0.10004407167434692,
          0.5177830457687378,
          0.6281805634498596,
          0.7870656251907349,
          0.04563753679394722,
          0.10897399485111237,
          0.935778796672821,
          -0.4643898904323578,
          1.0188826322555542,
          1.0818779468536377,
          -0.635399580001831,
          -0.1470327228307724,
          0.5257222056388855,
          0.19621388614177704,
          15.685013771057129
         ],
         "yaxis": "y"
        },
        {
         "customdata": [
          [
           "4499445005PO1NC3B6C"
          ],
          [
           "4566944964PO2NC4C7C"
          ],
          [
           "4421844676PO1NC4M6S"
          ],
          [
           "4129944963PO2NC4M1S"
          ],
          [
           "4211144957PO1NC3K4C"
          ],
          [
           "4660644993PO4NC5F10C"
          ],
          [
           "4129944963PO1NC3N1S"
          ],
          [
           "4566944964PO1NC4B8C"
          ],
          [
           "4660644993PO3NC5E10C"
          ],
          [
           "3889744700PO1NC5D1S"
          ],
          [
           "4660644938SO3NC1O9C"
          ],
          [
           "4211144957SO1NC1H4C"
          ],
          [
           "4247344998SO2NC1A5S"
          ],
          [
           "4456444991SO2NC1F6C"
          ],
          [
           "4598245001SO3NC1D9C"
          ],
          [
           "4265145042SO2NC1D5S"
          ],
          [
           "4129944963SO2NC1A2S"
          ],
          [
           "3889744700SO2NC1F1S"
          ],
          [
           "4598244908SO3NC1I8C"
          ],
          [
           "4499445005SO2NC1A6C"
          ],
          [
           "4265145042SO1NC1C6S"
          ],
          [
           "4598245001SO2NC1C10C"
          ],
          [
           "4129944636SOeNC1L1S"
          ],
          [
           "4598244908SO1NC1G8C"
          ],
          [
           "4566944964SO2NC1P7C"
          ],
          [
           "4129944963SO3NC1B2S"
          ],
          [
           "4636344664SO3NC1K9C"
          ]
         ],
         "hovertemplate": "leiden=0<br>umap_0=%{x}<br>umap_1=%{y}<br>obs_names=%{customdata[0]}<extra></extra>",
         "legendgroup": "0",
         "marker": {
          "color": "#19d3f3",
          "size": 5,
          "symbol": "circle"
         },
         "mode": "markers",
         "name": "0",
         "orientation": "v",
         "showlegend": true,
         "type": "scatter",
         "x": [
          8.640471458435059,
          8.224506378173828,
          7.942473411560059,
          9.728525161743164,
          8.79285717010498,
          8.476654052734375,
          9.182869911193848,
          7.753430366516113,
          8.784309387207031,
          8.415544509887695,
          9.291790962219238,
          8.611133575439453,
          9.010509490966797,
          8.343781471252441,
          9.096872329711914,
          8.566426277160645,
          8.01234245300293,
          9.653478622436523,
          9.33547592163086,
          8.082974433898926,
          9.474373817443848,
          8.39097785949707,
          8.096391677856445,
          8.421323776245117,
          9.042935371398926,
          9.446653366088867,
          9.477177619934082
         ],
         "xaxis": "x",
         "y": [
          12.774974822998047,
          13.494617462158203,
          14.80471134185791,
          10.010355949401855,
          11.009340286254883,
          12.142314910888672,
          13.912216186523438,
          15.950631141662598,
          11.64795207977295,
          13.60461711883545,
          12.050195693969727,
          11.8389310836792,
          11.083038330078125,
          11.557079315185547,
          12.764404296875,
          13.315605163574219,
          11.687697410583496,
          11.040441513061523,
          10.727232933044434,
          12.9711332321167,
          11.445718765258789,
          15.402403831481934,
          11.294878959655762,
          12.504162788391113,
          12.313880920410156,
          12.387123107910156,
          10.564335823059082
         ],
         "yaxis": "y"
        }
       ],
       "layout": {
        "height": 800,
        "legend": {
         "title": {
          "text": "leiden"
         },
         "tracegroupgap": 0
        },
        "margin": {
         "t": 60
        },
        "paper_bgcolor": "rgba(0, 0, 0, 0)",
        "plot_bgcolor": "rgba(0, 0, 0, 0)",
        "template": {
         "data": {
          "bar": [
           {
            "error_x": {
             "color": "#2a3f5f"
            },
            "error_y": {
             "color": "#2a3f5f"
            },
            "marker": {
             "line": {
              "color": "#E5ECF6",
              "width": 0.5
             },
             "pattern": {
              "fillmode": "overlay",
              "size": 10,
              "solidity": 0.2
             }
            },
            "type": "bar"
           }
          ],
          "barpolar": [
           {
            "marker": {
             "line": {
              "color": "#E5ECF6",
              "width": 0.5
             },
             "pattern": {
              "fillmode": "overlay",
              "size": 10,
              "solidity": 0.2
             }
            },
            "type": "barpolar"
           }
          ],
          "carpet": [
           {
            "aaxis": {
             "endlinecolor": "#2a3f5f",
             "gridcolor": "white",
             "linecolor": "white",
             "minorgridcolor": "white",
             "startlinecolor": "#2a3f5f"
            },
            "baxis": {
             "endlinecolor": "#2a3f5f",
             "gridcolor": "white",
             "linecolor": "white",
             "minorgridcolor": "white",
             "startlinecolor": "#2a3f5f"
            },
            "type": "carpet"
           }
          ],
          "choropleth": [
           {
            "colorbar": {
             "outlinewidth": 0,
             "ticks": ""
            },
            "type": "choropleth"
           }
          ],
          "contour": [
           {
            "colorbar": {
             "outlinewidth": 0,
             "ticks": ""
            },
            "colorscale": [
             [
              0,
              "#0d0887"
             ],
             [
              0.1111111111111111,
              "#46039f"
             ],
             [
              0.2222222222222222,
              "#7201a8"
             ],
             [
              0.3333333333333333,
              "#9c179e"
             ],
             [
              0.4444444444444444,
              "#bd3786"
             ],
             [
              0.5555555555555556,
              "#d8576b"
             ],
             [
              0.6666666666666666,
              "#ed7953"
             ],
             [
              0.7777777777777778,
              "#fb9f3a"
             ],
             [
              0.8888888888888888,
              "#fdca26"
             ],
             [
              1,
              "#f0f921"
             ]
            ],
            "type": "contour"
           }
          ],
          "contourcarpet": [
           {
            "colorbar": {
             "outlinewidth": 0,
             "ticks": ""
            },
            "type": "contourcarpet"
           }
          ],
          "heatmap": [
           {
            "colorbar": {
             "outlinewidth": 0,
             "ticks": ""
            },
            "colorscale": [
             [
              0,
              "#0d0887"
             ],
             [
              0.1111111111111111,
              "#46039f"
             ],
             [
              0.2222222222222222,
              "#7201a8"
             ],
             [
              0.3333333333333333,
              "#9c179e"
             ],
             [
              0.4444444444444444,
              "#bd3786"
             ],
             [
              0.5555555555555556,
              "#d8576b"
             ],
             [
              0.6666666666666666,
              "#ed7953"
             ],
             [
              0.7777777777777778,
              "#fb9f3a"
             ],
             [
              0.8888888888888888,
              "#fdca26"
             ],
             [
              1,
              "#f0f921"
             ]
            ],
            "type": "heatmap"
           }
          ],
          "heatmapgl": [
           {
            "colorbar": {
             "outlinewidth": 0,
             "ticks": ""
            },
            "colorscale": [
             [
              0,
              "#0d0887"
             ],
             [
              0.1111111111111111,
              "#46039f"
             ],
             [
              0.2222222222222222,
              "#7201a8"
             ],
             [
              0.3333333333333333,
              "#9c179e"
             ],
             [
              0.4444444444444444,
              "#bd3786"
             ],
             [
              0.5555555555555556,
              "#d8576b"
             ],
             [
              0.6666666666666666,
              "#ed7953"
             ],
             [
              0.7777777777777778,
              "#fb9f3a"
             ],
             [
              0.8888888888888888,
              "#fdca26"
             ],
             [
              1,
              "#f0f921"
             ]
            ],
            "type": "heatmapgl"
           }
          ],
          "histogram": [
           {
            "marker": {
             "pattern": {
              "fillmode": "overlay",
              "size": 10,
              "solidity": 0.2
             }
            },
            "type": "histogram"
           }
          ],
          "histogram2d": [
           {
            "colorbar": {
             "outlinewidth": 0,
             "ticks": ""
            },
            "colorscale": [
             [
              0,
              "#0d0887"
             ],
             [
              0.1111111111111111,
              "#46039f"
             ],
             [
              0.2222222222222222,
              "#7201a8"
             ],
             [
              0.3333333333333333,
              "#9c179e"
             ],
             [
              0.4444444444444444,
              "#bd3786"
             ],
             [
              0.5555555555555556,
              "#d8576b"
             ],
             [
              0.6666666666666666,
              "#ed7953"
             ],
             [
              0.7777777777777778,
              "#fb9f3a"
             ],
             [
              0.8888888888888888,
              "#fdca26"
             ],
             [
              1,
              "#f0f921"
             ]
            ],
            "type": "histogram2d"
           }
          ],
          "histogram2dcontour": [
           {
            "colorbar": {
             "outlinewidth": 0,
             "ticks": ""
            },
            "colorscale": [
             [
              0,
              "#0d0887"
             ],
             [
              0.1111111111111111,
              "#46039f"
             ],
             [
              0.2222222222222222,
              "#7201a8"
             ],
             [
              0.3333333333333333,
              "#9c179e"
             ],
             [
              0.4444444444444444,
              "#bd3786"
             ],
             [
              0.5555555555555556,
              "#d8576b"
             ],
             [
              0.6666666666666666,
              "#ed7953"
             ],
             [
              0.7777777777777778,
              "#fb9f3a"
             ],
             [
              0.8888888888888888,
              "#fdca26"
             ],
             [
              1,
              "#f0f921"
             ]
            ],
            "type": "histogram2dcontour"
           }
          ],
          "mesh3d": [
           {
            "colorbar": {
             "outlinewidth": 0,
             "ticks": ""
            },
            "type": "mesh3d"
           }
          ],
          "parcoords": [
           {
            "line": {
             "colorbar": {
              "outlinewidth": 0,
              "ticks": ""
             }
            },
            "type": "parcoords"
           }
          ],
          "pie": [
           {
            "automargin": true,
            "type": "pie"
           }
          ],
          "scatter": [
           {
            "fillpattern": {
             "fillmode": "overlay",
             "size": 10,
             "solidity": 0.2
            },
            "type": "scatter"
           }
          ],
          "scatter3d": [
           {
            "line": {
             "colorbar": {
              "outlinewidth": 0,
              "ticks": ""
             }
            },
            "marker": {
             "colorbar": {
              "outlinewidth": 0,
              "ticks": ""
             }
            },
            "type": "scatter3d"
           }
          ],
          "scattercarpet": [
           {
            "marker": {
             "colorbar": {
              "outlinewidth": 0,
              "ticks": ""
             }
            },
            "type": "scattercarpet"
           }
          ],
          "scattergeo": [
           {
            "marker": {
             "colorbar": {
              "outlinewidth": 0,
              "ticks": ""
             }
            },
            "type": "scattergeo"
           }
          ],
          "scattergl": [
           {
            "marker": {
             "colorbar": {
              "outlinewidth": 0,
              "ticks": ""
             }
            },
            "type": "scattergl"
           }
          ],
          "scattermapbox": [
           {
            "marker": {
             "colorbar": {
              "outlinewidth": 0,
              "ticks": ""
             }
            },
            "type": "scattermapbox"
           }
          ],
          "scatterpolar": [
           {
            "marker": {
             "colorbar": {
              "outlinewidth": 0,
              "ticks": ""
             }
            },
            "type": "scatterpolar"
           }
          ],
          "scatterpolargl": [
           {
            "marker": {
             "colorbar": {
              "outlinewidth": 0,
              "ticks": ""
             }
            },
            "type": "scatterpolargl"
           }
          ],
          "scatterternary": [
           {
            "marker": {
             "colorbar": {
              "outlinewidth": 0,
              "ticks": ""
             }
            },
            "type": "scatterternary"
           }
          ],
          "surface": [
           {
            "colorbar": {
             "outlinewidth": 0,
             "ticks": ""
            },
            "colorscale": [
             [
              0,
              "#0d0887"
             ],
             [
              0.1111111111111111,
              "#46039f"
             ],
             [
              0.2222222222222222,
              "#7201a8"
             ],
             [
              0.3333333333333333,
              "#9c179e"
             ],
             [
              0.4444444444444444,
              "#bd3786"
             ],
             [
              0.5555555555555556,
              "#d8576b"
             ],
             [
              0.6666666666666666,
              "#ed7953"
             ],
             [
              0.7777777777777778,
              "#fb9f3a"
             ],
             [
              0.8888888888888888,
              "#fdca26"
             ],
             [
              1,
              "#f0f921"
             ]
            ],
            "type": "surface"
           }
          ],
          "table": [
           {
            "cells": {
             "fill": {
              "color": "#EBF0F8"
             },
             "line": {
              "color": "white"
             }
            },
            "header": {
             "fill": {
              "color": "#C8D4E3"
             },
             "line": {
              "color": "white"
             }
            },
            "type": "table"
           }
          ]
         },
         "layout": {
          "annotationdefaults": {
           "arrowcolor": "#2a3f5f",
           "arrowhead": 0,
           "arrowwidth": 1
          },
          "autotypenumbers": "strict",
          "coloraxis": {
           "colorbar": {
            "outlinewidth": 0,
            "ticks": ""
           }
          },
          "colorscale": {
           "diverging": [
            [
             0,
             "#8e0152"
            ],
            [
             0.1,
             "#c51b7d"
            ],
            [
             0.2,
             "#de77ae"
            ],
            [
             0.3,
             "#f1b6da"
            ],
            [
             0.4,
             "#fde0ef"
            ],
            [
             0.5,
             "#f7f7f7"
            ],
            [
             0.6,
             "#e6f5d0"
            ],
            [
             0.7,
             "#b8e186"
            ],
            [
             0.8,
             "#7fbc41"
            ],
            [
             0.9,
             "#4d9221"
            ],
            [
             1,
             "#276419"
            ]
           ],
           "sequential": [
            [
             0,
             "#0d0887"
            ],
            [
             0.1111111111111111,
             "#46039f"
            ],
            [
             0.2222222222222222,
             "#7201a8"
            ],
            [
             0.3333333333333333,
             "#9c179e"
            ],
            [
             0.4444444444444444,
             "#bd3786"
            ],
            [
             0.5555555555555556,
             "#d8576b"
            ],
            [
             0.6666666666666666,
             "#ed7953"
            ],
            [
             0.7777777777777778,
             "#fb9f3a"
            ],
            [
             0.8888888888888888,
             "#fdca26"
            ],
            [
             1,
             "#f0f921"
            ]
           ],
           "sequentialminus": [
            [
             0,
             "#0d0887"
            ],
            [
             0.1111111111111111,
             "#46039f"
            ],
            [
             0.2222222222222222,
             "#7201a8"
            ],
            [
             0.3333333333333333,
             "#9c179e"
            ],
            [
             0.4444444444444444,
             "#bd3786"
            ],
            [
             0.5555555555555556,
             "#d8576b"
            ],
            [
             0.6666666666666666,
             "#ed7953"
            ],
            [
             0.7777777777777778,
             "#fb9f3a"
            ],
            [
             0.8888888888888888,
             "#fdca26"
            ],
            [
             1,
             "#f0f921"
            ]
           ]
          },
          "colorway": [
           "#636efa",
           "#EF553B",
           "#00cc96",
           "#ab63fa",
           "#FFA15A",
           "#19d3f3",
           "#FF6692",
           "#B6E880",
           "#FF97FF",
           "#FECB52"
          ],
          "font": {
           "color": "#2a3f5f"
          },
          "geo": {
           "bgcolor": "white",
           "lakecolor": "white",
           "landcolor": "#E5ECF6",
           "showlakes": true,
           "showland": true,
           "subunitcolor": "white"
          },
          "hoverlabel": {
           "align": "left"
          },
          "hovermode": "closest",
          "mapbox": {
           "style": "light"
          },
          "paper_bgcolor": "white",
          "plot_bgcolor": "#E5ECF6",
          "polar": {
           "angularaxis": {
            "gridcolor": "white",
            "linecolor": "white",
            "ticks": ""
           },
           "bgcolor": "#E5ECF6",
           "radialaxis": {
            "gridcolor": "white",
            "linecolor": "white",
            "ticks": ""
           }
          },
          "scene": {
           "xaxis": {
            "backgroundcolor": "#E5ECF6",
            "gridcolor": "white",
            "gridwidth": 2,
            "linecolor": "white",
            "showbackground": true,
            "ticks": "",
            "zerolinecolor": "white"
           },
           "yaxis": {
            "backgroundcolor": "#E5ECF6",
            "gridcolor": "white",
            "gridwidth": 2,
            "linecolor": "white",
            "showbackground": true,
            "ticks": "",
            "zerolinecolor": "white"
           },
           "zaxis": {
            "backgroundcolor": "#E5ECF6",
            "gridcolor": "white",
            "gridwidth": 2,
            "linecolor": "white",
            "showbackground": true,
            "ticks": "",
            "zerolinecolor": "white"
           }
          },
          "shapedefaults": {
           "line": {
            "color": "#2a3f5f"
           }
          },
          "ternary": {
           "aaxis": {
            "gridcolor": "white",
            "linecolor": "white",
            "ticks": ""
           },
           "baxis": {
            "gridcolor": "white",
            "linecolor": "white",
            "ticks": ""
           },
           "bgcolor": "#E5ECF6",
           "caxis": {
            "gridcolor": "white",
            "linecolor": "white",
            "ticks": ""
           }
          },
          "title": {
           "x": 0.05
          },
          "xaxis": {
           "automargin": true,
           "gridcolor": "white",
           "linecolor": "white",
           "ticks": "",
           "title": {
            "standoff": 15
           },
           "zerolinecolor": "white",
           "zerolinewidth": 2
          },
          "yaxis": {
           "automargin": true,
           "gridcolor": "white",
           "linecolor": "white",
           "ticks": "",
           "title": {
            "standoff": 15
           },
           "zerolinecolor": "white",
           "zerolinewidth": 2
          }
         }
        },
        "width": 800,
        "xaxis": {
         "anchor": "y",
         "autorange": true,
         "domain": [
          0,
          1
         ],
         "range": [
          0.7813710944335572,
          10.561369083674657
         ],
         "showticklabels": false,
         "title": {
          "text": "umap_0"
         },
         "type": "linear"
        },
        "yaxis": {
         "anchor": "x",
         "autorange": true,
         "domain": [
          0,
          1
         ],
         "range": [
          -2.106415930566561,
          18.49552190619446
         ],
         "showticklabels": false,
         "title": {
          "text": "umap_1"
         },
         "type": "linear"
        }
       }
      },
      "image/png": "[encoded data removed]",
      "text/html": [
       "<div>                            <div id=\"cd8a0a9b-644c-4298-9261-729ceda26096\" class=\"plotly-graph-div\" style=\"height:800px; width:800px;\"></div>            <script type=\"text/javascript\">                require([\"plotly\"], function(Plotly) {                    window.PLOTLYENV=window.PLOTLYENV || {};                                    if (document.getElementById(\"cd8a0a9b-644c-4298-9261-729ceda26096\")) {                    Plotly.newPlot(                        \"cd8a0a9b-644c-4298-9261-729ceda26096\",                        [{\"customdata\":[[\"4636344664PO1NC5L9C\"],[\"4139144650PO3NC3E3C\"],[\"4566944700PO3NC4A9C\"],[\"4265145042PO2NC4N4S\"],[\"4499445005PO2NC3C5C\"],[\"4146044643PO2NC5P3C\"],[\"4520844650PO2NC3B7S\"],[\"4146044643SO2NC1M3C\"],[\"4302844664SO1NC1H5C\"],[\"3889744643SO3NC1C2S\"],[\"4302844664SO2NC1I5C\"],[\"4139144650SO3NC1D3C\"],[\"4566944700SO3NC1N8C\"],[\"4499445005SO1NC1P5C\"],[\"4636344914SO2NC1G9C\"],[\"4146044643SO3NC1N3C\"],[\"4123744641SO3NC1M2S\"],[\"4566944964SO3NC1A8C\"],[\"4305144931SO1NC1L5S\"],[\"4139144650SO2NC1C4C\"],[\"4520844650SO2NC1O6S\"],[\"4566944700SO2NC1M8C\"]],\"hovertemplate\":\"leiden=2<br>umap_0=%{x}<br>umap_1=%{y}<br>obs_names=%{customdata[0]}<extra></extra>\",\"legendgroup\":\"2\",\"marker\":{\"color\":\"#636efa\",\"symbol\":\"circle\",\"size\":5},\"mode\":\"markers\",\"name\":\"2\",\"orientation\":\"v\",\"showlegend\":true,\"x\":[3.831127882003784,4.555797576904297,5.008332252502441,7.088883399963379,4.901505947113037,4.8023223876953125,4.619840145111084,3.6784915924072266,3.937869071960449,3.5173256397247314,5.291788101196289,4.3584089279174805,3.7302467823028564,7.353141784667969,4.782217025756836,4.064167022705078,5.079728603363037,4.633604049682617,4.507557392120361,3.2828238010406494,3.883380889892578,4.016055583953857],\"xaxis\":\"x\",\"y\":[-0.3875621557235718,-0.6211060881614685,0.7217352986335754,15.131312370300293,1.4623714685440063,-0.3763957619667053,-0.3108777105808258,-0.5095595717430115,0.7243180274963379,0.25325390696525574,1.156911015510559,0.8421019911766052,0.4215897023677826,14.241377830505371,-0.013576132245361805,-0.138826385140419,1.3235995769500732,1.4890036582946777,0.3818543553352356,-0.7123196125030518,-0.978771984577179,1.1866408586502075],\"yaxis\":\"y\",\"type\":\"scatter\"},{\"customdata\":[[\"4598245001PO2NC4F8C\"],[\"4598244908PO2NC4K8C\"],[\"4660644938PO2NC3A10C\"],[\"4598245001PO1NC3E9C\"],[\"4660644993PO2NC5D10C\"],[\"4566944964PO4NC3E8C\"],[\"3905345005PO1NC2I1S\"],[\"4139144923PO4NC4K3C\"],[\"4247344998PO1NC2I4S\"],[\"4139144923PO3NC5J3C\"],[\"4660644938PO1NC4P9C\"],[\"4129944963PO3NC3O1S\"],[\"4146045001PO2NC3F4C\"],[\"4566944964PO3NC3D8C\"],[\"4636344914SO3NC1I6C\"],[\"3905345005SO1NC1J1S\"],[\"3905345005SO2NC1K1S\"],[\"4139144923SO1NC1O2C\"],[\"4139144923SO2NC1P2C\"],[\"4566944700SO1NC1L8C\"],[\"4499445005SO3NC1D6C\"],[\"4456444991SO1NC1E6C\"]],\"hovertemplate\":\"leiden=1<br>umap_0=%{x}<br>umap_1=%{y}<br>obs_names=%{customdata[0]}<extra></extra>\",\"legendgroup\":\"1\",\"marker\":{\"color\":\"#EF553B\",\"symbol\":\"circle\",\"size\":5},\"mode\":\"markers\",\"name\":\"1\",\"orientation\":\"v\",\"showlegend\":true,\"x\":[8.840456008911133,8.285110473632812,8.43777084350586,6.928848743438721,8.214889526367188,8.811119079589844,8.578289985656738,9.100638389587402,7.432077407836914,7.6786041259765625,7.21187686920166,6.238274097442627,7.589389324188232,8.855579376220703,6.657665252685547,6.284982681274414,7.311941146850586,6.431294918060303,6.836350917816162,8.720439910888672,6.5456132888793945,8.705474853515625],\"xaxis\":\"x\",\"y\":[15.151232719421387,15.170360565185547,16.373525619506836,16.581554412841797,15.956454277038574,15.04470443725586,16.333316802978516,15.17463207244873,16.63215446472168,16.8487491607666,16.377243041992188,16.17879295349121,16.80495262145996,15.703584671020508,16.805282592773438,16.00045394897461,17.367877960205078,16.764877319335938,17.21466636657715,14.383318901062012,16.424392700195312,16.730863571166992],\"yaxis\":\"y\",\"type\":\"scatter\"},{\"customdata\":[[\"4566944700PO2NC5P8C\"],[\"4146044643PO3NC5A4C\"],[\"4146045001PO1NC5E4C\"],[\"4211144957PO2NC3L4C\"],[\"4139144650PO1NC4F3C\"],[\"4265145042PO3NC4G5S\"],[\"4660644938PO3NC5B10C\"],[\"4598244908SO2NC1H8C\"],[\"4146045001SO3NC1D4C\"],[\"4421844676SO2NC1K6S\"],[\"3889744700SO1NC1E1S\"]],\"hovertemplate\":\"leiden=5<br>umap_0=%{x}<br>umap_1=%{y}<br>obs_names=%{customdata[0]}<extra></extra>\",\"legendgroup\":\"5\",\"marker\":{\"color\":\"#00cc96\",\"symbol\":\"circle\",\"size\":5},\"mode\":\"markers\",\"name\":\"5\",\"orientation\":\"v\",\"showlegend\":true,\"x\":[9.125015258789062,8.547327041625977,9.687681198120117,9.591057777404785,8.973475456237793,9.215210914611816,10.024615287780762,9.222166061401367,8.730913162231445,9.700275421142578,9.480215072631836],\"xaxis\":\"x\",\"y\":[9.325626373291016,7.3515191078186035,9.385334014892578,9.618151664733887,8.330117225646973,10.16165828704834,9.508671760559082,8.516386032104492,8.042558670043945,8.935064315795898,8.774272918701172],\"yaxis\":\"y\",\"type\":\"scatter\"},{\"customdata\":[[\"4520844650PO1NC5A7S\"],[\"4146045001PO3NC4G4C\"],[\"4139144923PO2NC3I3C\"],[\"4520844650PO3NC5C8S\"],[\"4636344914PO1NC4H9C\"],[\"4265145042PO1NC3E5S\"],[\"4139144650PO2NC4G3C\"],[\"4146044643PO1NC5O3C\"],[\"4598244908PO1NC3J8C\"],[\"3889744700SO4NC1H1S\"],[\"3889744700SO3NC1G1S\"],[\"3889744643SO2NC1B1S\"],[\"4660644938SO2NC1N9C\"],[\"4146045001SO1NC1B4C\"],[\"4211144957SO3NC1J4C\"],[\"4123744641SO2NC1L2S\"],[\"4146045001SO2NC1C3C\"],[\"4520844650SO1NC1N6S\"],[\"4598245001SO1NC1B9C\"],[\"4211144957SO2NC1B5C\"]],\"hovertemplate\":\"leiden=3<br>umap_0=%{x}<br>umap_1=%{y}<br>obs_names=%{customdata[0]}<extra></extra>\",\"legendgroup\":\"3\",\"marker\":{\"color\":\"#ab63fa\",\"symbol\":\"circle\",\"size\":5},\"mode\":\"markers\",\"name\":\"3\",\"orientation\":\"v\",\"showlegend\":true,\"x\":[8.205190658569336,7.49812126159668,7.685315132141113,8.048089981079102,7.291823863983154,6.895778656005859,7.740345478057861,8.087593078613281,6.545869827270508,7.49789571762085,7.5453386306762695,6.253266334533691,7.479157447814941,6.89310359954834,7.217985153198242,6.471772193908691,7.990604400634766,6.79914665222168,6.76153564453125,7.854237079620361],\"xaxis\":\"x\",\"y\":[5.592746257781982,4.693768501281738,5.540018081665039,5.242921352386475,5.840239524841309,4.424798011779785,6.432694435119629,5.996227741241455,5.683487892150879,6.9958415031433105,5.560266494750977,4.2556633949279785,4.308407783508301,5.052632808685303,6.520331382751465,4.700291156768799,6.740489959716797,5.348287582397461,4.868658542633057,6.440371990203857],\"yaxis\":\"y\",\"type\":\"scatter\"},{\"customdata\":[[\"4139144923PO1NC3H3C\"],[\"4566944700PO1NC5O8C\"],[\"4123744641PO1NC4N2S\"],[\"4302844664PO2NC5K5C\"],[\"4456444991PO1NC3H6C\"],[\"4146044643SO1NC1L3C\"],[\"4123744641SO1NC1K2S\"],[\"4421844676SO1NC1J6S\"],[\"4636344914SO1NC1F9C\"],[\"3889744643SO1NC1A1S\"],[\"4660644938SO1NC1M9C\"],[\"4129944963SO1NC1P1S\"],[\"4302844664SO3NC1J5C\"],[\"4265145042SO3NC1F5S\"],[\"4636344664SO2NC1J9C\"],[\"4520844650SO3NC1P6S\"],[\"4421844676SO3NC1L6S\"],[\"4566944964SO1NC1O7C\"]],\"hovertemplate\":\"leiden=4<br>umap_0=%{x}<br>umap_1=%{y}<br>obs_names=%{customdata[0]}<extra></extra>\",\"legendgroup\":\"4\",\"marker\":{\"color\":\"#FFA15A\",\"symbol\":\"circle\",\"size\":5},\"mode\":\"markers\",\"name\":\"4\",\"orientation\":\"v\",\"showlegend\":true,\"x\":[1.6941465139389038,3.0319135189056396,2.9349424839019775,1.7290810346603394,2.4225780963897705,1.6960359811782837,2.590125322341919,1.3181248903274536,2.628279447555542,1.8922408819198608,2.1463568210601807,2.1512999534606934,3.472810745239258,3.1197094917297363,2.190561056137085,1.3567222356796265,1.4044129848480225,6.830511569976807],\"xaxis\":\"x\",\"y\":[-0.42124050855636597,1.153388261795044,1.0413520336151123,0.10004407167434692,0.5177830457687378,0.6281805634498596,0.7870656251907349,0.04563753679394722,0.10897399485111237,0.935778796672821,-0.4643898904323578,1.0188826322555542,1.0818779468536377,-0.635399580001831,-0.1470327228307724,0.5257222056388855,0.19621388614177704,15.685013771057129],\"yaxis\":\"y\",\"type\":\"scatter\"},{\"customdata\":[[\"4499445005PO1NC3B6C\"],[\"4566944964PO2NC4C7C\"],[\"4421844676PO1NC4M6S\"],[\"4129944963PO2NC4M1S\"],[\"4211144957PO1NC3K4C\"],[\"4660644993PO4NC5F10C\"],[\"4129944963PO1NC3N1S\"],[\"4566944964PO1NC4B8C\"],[\"4660644993PO3NC5E10C\"],[\"3889744700PO1NC5D1S\"],[\"4660644938SO3NC1O9C\"],[\"4211144957SO1NC1H4C\"],[\"4247344998SO2NC1A5S\"],[\"4456444991SO2NC1F6C\"],[\"4598245001SO3NC1D9C\"],[\"4265145042SO2NC1D5S\"],[\"4129944963SO2NC1A2S\"],[\"3889744700SO2NC1F1S\"],[\"4598244908SO3NC1I8C\"],[\"4499445005SO2NC1A6C\"],[\"4265145042SO1NC1C6S\"],[\"4598245001SO2NC1C10C\"],[\"4129944636SOeNC1L1S\"],[\"4598244908SO1NC1G8C\"],[\"4566944964SO2NC1P7C\"],[\"4129944963SO3NC1B2S\"],[\"4636344664SO3NC1K9C\"]],\"hovertemplate\":\"leiden=0<br>umap_0=%{x}<br>umap_1=%{y}<br>obs_names=%{customdata[0]}<extra></extra>\",\"legendgroup\":\"0\",\"marker\":{\"color\":\"#19d3f3\",\"symbol\":\"circle\",\"size\":5},\"mode\":\"markers\",\"name\":\"0\",\"orientation\":\"v\",\"showlegend\":true,\"x\":[8.640471458435059,8.224506378173828,7.942473411560059,9.728525161743164,8.79285717010498,8.476654052734375,9.182869911193848,7.753430366516113,8.784309387207031,8.415544509887695,9.291790962219238,8.611133575439453,9.010509490966797,8.343781471252441,9.096872329711914,8.566426277160645,8.01234245300293,9.653478622436523,9.33547592163086,8.082974433898926,9.474373817443848,8.39097785949707,8.096391677856445,8.421323776245117,9.042935371398926,9.446653366088867,9.477177619934082],\"xaxis\":\"x\",\"y\":[12.774974822998047,13.494617462158203,14.80471134185791,10.010355949401855,11.009340286254883,12.142314910888672,13.912216186523438,15.950631141662598,11.64795207977295,13.60461711883545,12.050195693969727,11.8389310836792,11.083038330078125,11.557079315185547,12.764404296875,13.315605163574219,11.687697410583496,11.040441513061523,10.727232933044434,12.9711332321167,11.445718765258789,15.402403831481934,11.294878959655762,12.504162788391113,12.313880920410156,12.387123107910156,10.564335823059082],\"yaxis\":\"y\",\"type\":\"scatter\"}],                        {\"template\":{\"data\":{\"histogram2dcontour\":[{\"type\":\"histogram2dcontour\",\"colorbar\":{\"outlinewidth\":0,\"ticks\":\"\"},\"colorscale\":[[0.0,\"#0d0887\"],[0.1111111111111111,\"#46039f\"],[0.2222222222222222,\"#7201a8\"],[0.3333333333333333,\"#9c179e\"],[0.4444444444444444,\"#bd3786\"],[0.5555555555555556,\"#d8576b\"],[0.6666666666666666,\"#ed7953\"],[0.7777777777777778,\"#fb9f3a\"],[0.8888888888888888,\"#fdca26\"],[1.0,\"#f0f921\"]]}],\"choropleth\":[{\"type\":\"choropleth\",\"colorbar\":{\"outlinewidth\":0,\"ticks\":\"\"}}],\"histogram2d\":[{\"type\":\"histogram2d\",\"colorbar\":{\"outlinewidth\":0,\"ticks\":\"\"},\"colorscale\":[[0.0,\"#0d0887\"],[0.1111111111111111,\"#46039f\"],[0.2222222222222222,\"#7201a8\"],[0.3333333333333333,\"#9c179e\"],[0.4444444444444444,\"#bd3786\"],[0.5555555555555556,\"#d8576b\"],[0.6666666666666666,\"#ed7953\"],[0.7777777777777778,\"#fb9f3a\"],[0.8888888888888888,\"#fdca26\"],[1.0,\"#f0f921\"]]}],\"heatmap\":[{\"type\":\"heatmap\",\"colorbar\":{\"outlinewidth\":0,\"ticks\":\"\"},\"colorscale\":[[0.0,\"#0d0887\"],[0.1111111111111111,\"#46039f\"],[0.2222222222222222,\"#7201a8\"],[0.3333333333333333,\"#9c179e\"],[0.4444444444444444,\"#bd3786\"],[0.5555555555555556,\"#d8576b\"],[0.6666666666666666,\"#ed7953\"],[0.7777777777777778,\"#fb9f3a\"],[0.8888888888888888,\"#fdca26\"],[1.0,\"#f0f921\"]]}],\"heatmapgl\":[{\"type\":\"heatmapgl\",\"colorbar\":{\"outlinewidth\":0,\"ticks\":\"\"},\"colorscale\":[[0.0,\"#0d0887\"],[0.1111111111111111,\"#46039f\"],[0.2222222222222222,\"#7201a8\"],[0.3333333333333333,\"#9c179e\"],[0.4444444444444444,\"#bd3786\"],[0.5555555555555556,\"#d8576b\"],[0.6666666666666666,\"#ed7953\"],[0.7777777777777778,\"#fb9f3a\"],[0.8888888888888888,\"#fdca26\"],[1.0,\"#f0f921\"]]}],\"contourcarpet\":[{\"type\":\"contourcarpet\",\"colorbar\":{\"outlinewidth\":0,\"ticks\":\"\"}}],\"contour\":[{\"type\":\"contour\",\"colorbar\":{\"outlinewidth\":0,\"ticks\":\"\"},\"colorscale\":[[0.0,\"#0d0887\"],[0.1111111111111111,\"#46039f\"],[0.2222222222222222,\"#7201a8\"],[0.3333333333333333,\"#9c179e\"],[0.4444444444444444,\"#bd3786\"],[0.5555555555555556,\"#d8576b\"],[0.6666666666666666,\"#ed7953\"],[0.7777777777777778,\"#fb9f3a\"],[0.8888888888888888,\"#fdca26\"],[1.0,\"#f0f921\"]]}],\"surface\":[{\"type\":\"surface\",\"colorbar\":{\"outlinewidth\":0,\"ticks\":\"\"},\"colorscale\":[[0.0,\"#0d0887\"],[0.1111111111111111,\"#46039f\"],[0.2222222222222222,\"#7201a8\"],[0.3333333333333333,\"#9c179e\"],[0.4444444444444444,\"#bd3786\"],[0.5555555555555556,\"#d8576b\"],[0.6666666666666666,\"#ed7953\"],[0.7777777777777778,\"#fb9f3a\"],[0.8888888888888888,\"#fdca26\"],[1.0,\"#f0f921\"]]}],\"mesh3d\":[{\"type\":\"mesh3d\",\"colorbar\":{\"outlinewidth\":0,\"ticks\":\"\"}}],\"scatter\":[{\"fillpattern\":{\"fillmode\":\"overlay\",\"size\":10,\"solidity\":0.2},\"type\":\"scatter\"}],\"parcoords\":[{\"type\":\"parcoords\",\"line\":{\"colorbar\":{\"outlinewidth\":0,\"ticks\":\"\"}}}],\"scatterpolargl\":[{\"type\":\"scatterpolargl\",\"marker\":{\"colorbar\":{\"outlinewidth\":0,\"ticks\":\"\"}}}],\"bar\":[{\"error_x\":{\"color\":\"#2a3f5f\"},\"error_y\":{\"color\":\"#2a3f5f\"},\"marker\":{\"line\":{\"color\":\"#E5ECF6\",\"width\":0.5},\"pattern\":{\"fillmode\":\"overlay\",\"size\":10,\"solidity\":0.2}},\"type\":\"bar\"}],\"scattergeo\":[{\"type\":\"scattergeo\",\"marker\":{\"colorbar\":{\"outlinewidth\":0,\"ticks\":\"\"}}}],\"scatterpolar\":[{\"type\":\"scatterpolar\",\"marker\":{\"colorbar\":{\"outlinewidth\":0,\"ticks\":\"\"}}}],\"histogram\":[{\"marker\":{\"pattern\":{\"fillmode\":\"overlay\",\"size\":10,\"solidity\":0.2}},\"type\":\"histogram\"}],\"scattergl\":[{\"type\":\"scattergl\",\"marker\":{\"colorbar\":{\"outlinewidth\":0,\"ticks\":\"\"}}}],\"scatter3d\":[{\"type\":\"scatter3d\",\"line\":{\"colorbar\":{\"outlinewidth\":0,\"ticks\":\"\"}},\"marker\":{\"colorbar\":{\"outlinewidth\":0,\"ticks\":\"\"}}}],\"scattermapbox\":[{\"type\":\"scattermapbox\",\"marker\":{\"colorbar\":{\"outlinewidth\":0,\"ticks\":\"\"}}}],\"scatterternary\":[{\"type\":\"scatterternary\",\"marker\":{\"colorbar\":{\"outlinewidth\":0,\"ticks\":\"\"}}}],\"scattercarpet\":[{\"type\":\"scattercarpet\",\"marker\":{\"colorbar\":{\"outlinewidth\":0,\"ticks\":\"\"}}}],\"carpet\":[{\"aaxis\":{\"endlinecolor\":\"#2a3f5f\",\"gridcolor\":\"white\",\"linecolor\":\"white\",\"minorgridcolor\":\"white\",\"startlinecolor\":\"#2a3f5f\"},\"baxis\":{\"endlinecolor\":\"#2a3f5f\",\"gridcolor\":\"white\",\"linecolor\":\"white\",\"minorgridcolor\":\"white\",\"startlinecolor\":\"#2a3f5f\"},\"type\":\"carpet\"}],\"table\":[{\"cells\":{\"fill\":{\"color\":\"#EBF0F8\"},\"line\":{\"color\":\"white\"}},\"header\":{\"fill\":{\"color\":\"#C8D4E3\"},\"line\":{\"color\":\"white\"}},\"type\":\"table\"}],\"barpolar\":[{\"marker\":{\"line\":{\"color\":\"#E5ECF6\",\"width\":0.5},\"pattern\":{\"fillmode\":\"overlay\",\"size\":10,\"solidity\":0.2}},\"type\":\"barpolar\"}],\"pie\":[{\"automargin\":true,\"type\":\"pie\"}]},\"layout\":{\"autotypenumbers\":\"strict\",\"colorway\":[\"#636efa\",\"#EF553B\",\"#00cc96\",\"#ab63fa\",\"#FFA15A\",\"#19d3f3\",\"#FF6692\",\"#B6E880\",\"#FF97FF\",\"#FECB52\"],\"font\":{\"color\":\"#2a3f5f\"},\"hovermode\":\"closest\",\"hoverlabel\":{\"align\":\"left\"},\"paper_bgcolor\":\"white\",\"plot_bgcolor\":\"#E5ECF6\",\"polar\":{\"bgcolor\":\"#E5ECF6\",\"angularaxis\":{\"gridcolor\":\"white\",\"linecolor\":\"white\",\"ticks\":\"\"},\"radialaxis\":{\"gridcolor\":\"white\",\"linecolor\":\"white\",\"ticks\":\"\"}},\"ternary\":{\"bgcolor\":\"#E5ECF6\",\"aaxis\":{\"gridcolor\":\"white\",\"linecolor\":\"white\",\"ticks\":\"\"},\"baxis\":{\"gridcolor\":\"white\",\"linecolor\":\"white\",\"ticks\":\"\"},\"caxis\":{\"gridcolor\":\"white\",\"linecolor\":\"white\",\"ticks\":\"\"}},\"coloraxis\":{\"colorbar\":{\"outlinewidth\":0,\"ticks\":\"\"}},\"colorscale\":{\"sequential\":[[0.0,\"#0d0887\"],[0.1111111111111111,\"#46039f\"],[0.2222222222222222,\"#7201a8\"],[0.3333333333333333,\"#9c179e\"],[0.4444444444444444,\"#bd3786\"],[0.5555555555555556,\"#d8576b\"],[0.6666666666666666,\"#ed7953\"],[0.7777777777777778,\"#fb9f3a\"],[0.8888888888888888,\"#fdca26\"],[1.0,\"#f0f921\"]],\"sequentialminus\":[[0.0,\"#0d0887\"],[0.1111111111111111,\"#46039f\"],[0.2222222222222222,\"#7201a8\"],[0.3333333333333333,\"#9c179e\"],[0.4444444444444444,\"#bd3786\"],[0.5555555555555556,\"#d8576b\"],[0.6666666666666666,\"#ed7953\"],[0.7777777777777778,\"#fb9f3a\"],[0.8888888888888888,\"#fdca26\"],[1.0,\"#f0f921\"]],\"diverging\":[[0,\"#8e0152\"],[0.1,\"#c51b7d\"],[0.2,\"#de77ae\"],[0.3,\"#f1b6da\"],[0.4,\"#fde0ef\"],[0.5,\"#f7f7f7\"],[0.6,\"#e6f5d0\"],[0.7,\"#b8e186\"],[0.8,\"#7fbc41\"],[0.9,\"#4d9221\"],[1,\"#276419\"]]},\"xaxis\":{\"gridcolor\":\"white\",\"linecolor\":\"white\",\"ticks\":\"\",\"title\":{\"standoff\":15},\"zerolinecolor\":\"white\",\"automargin\":true,\"zerolinewidth\":2},\"yaxis\":{\"gridcolor\":\"white\",\"linecolor\":\"white\",\"ticks\":\"\",\"title\":{\"standoff\":15},\"zerolinecolor\":\"white\",\"automargin\":true,\"zerolinewidth\":2},\"scene\":{\"xaxis\":{\"backgroundcolor\":\"#E5ECF6\",\"gridcolor\":\"white\",\"linecolor\":\"white\",\"showbackground\":true,\"ticks\":\"\",\"zerolinecolor\":\"white\",\"gridwidth\":2},\"yaxis\":{\"backgroundcolor\":\"#E5ECF6\",\"gridcolor\":\"white\",\"linecolor\":\"white\",\"showbackground\":true,\"ticks\":\"\",\"zerolinecolor\":\"white\",\"gridwidth\":2},\"zaxis\":{\"backgroundcolor\":\"#E5ECF6\",\"gridcolor\":\"white\",\"linecolor\":\"white\",\"showbackground\":true,\"ticks\":\"\",\"zerolinecolor\":\"white\",\"gridwidth\":2}},\"shapedefaults\":{\"line\":{\"color\":\"#2a3f5f\"}},\"annotationdefaults\":{\"arrowcolor\":\"#2a3f5f\",\"arrowhead\":0,\"arrowwidth\":1},\"geo\":{\"bgcolor\":\"white\",\"landcolor\":\"#E5ECF6\",\"subunitcolor\":\"white\",\"showland\":true,\"showlakes\":true,\"lakecolor\":\"white\"},\"title\":{\"x\":0.05},\"mapbox\":{\"style\":\"light\"}}},\"xaxis\":{\"anchor\":\"y\",\"domain\":[0.0,1.0],\"title\":{\"text\":\"umap_0\"},\"showticklabels\":false},\"yaxis\":{\"anchor\":\"x\",\"domain\":[0.0,1.0],\"title\":{\"text\":\"umap_1\"},\"showticklabels\":false},\"legend\":{\"title\":{\"text\":\"leiden\"},\"tracegroupgap\":0},\"margin\":{\"t\":60},\"paper_bgcolor\":\"rgba(0,0,0,0)\",\"plot_bgcolor\":\"rgba(0,0,0,0)\",\"width\":800,\"height\":800},                        {\"responsive\": true}                    ).then(function(){\n",
       "                            \n",
       "var gd = document.getElementById('cd8a0a9b-644c-4298-9261-729ceda26096');\n",
       "var x = new MutationObserver(function (mutations, observer) {{\n",
       "        var display = window.getComputedStyle(gd).display;\n",
       "        if (!display || display === 'none') {{\n",
       "            console.log([gd, 'removed!']);\n",
       "            Plotly.purge(gd);\n",
       "            observer.disconnect();\n",
       "        }}\n",
       "}});\n",
       "\n",
       "// Listen for the removal of the full notebook cells\n",
       "var notebookContainer = gd.closest('#notebook-container');\n",
       "if (notebookContainer) {{\n",
       "    x.observe(notebookContainer, {childList: true});\n",
       "}}\n",
       "\n",
       "// Listen for the clearing of the current output cell\n",
       "var outputEl = gd.closest('.output');\n",
       "if (outputEl) {{\n",
       "    x.observe(outputEl, {childList: true});\n",
       "}}\n",
       "\n",
       "                        })                };                });            </script>        </div>"
      ]
     },
     "metadata": {},
     "output_type": "display_data"
    }
   ],
   "source": [
    "# interactive plot\n",
    "\n",
    "# in order to reduce the page size, I downsample the data here, you don't need to do this\n",
    "interactive_scatter(data=adata,\n",
    "                    hue=pre_cluster_name,\n",
    "                    coord_base='umap')"
   ]
  },
  {
   "cell_type": "code",
   "execution_count": 39,
   "id": "e55a741c-528e-4558-b17c-e213ea3370c9",
   "metadata": {},
   "outputs": [
    {
     "name": "stderr",
     "output_type": "stream",
     "text": [
      "/share/lasallelab/Ensi/anaconda3/lib/python3.11/site-packages/plotly/express/_core.py:1958: FutureWarning:\n",
      "\n",
      "The default of observed=False is deprecated and will be changed to True in a future version of pandas. Pass observed=False to retain current behavior or observed=True to adopt the future default and silence this warning.\n",
      "\n"
     ]
    }
   ],
   "source": [
    "# Generate the interactive scatter plot\n",
    "fig = interactive_scatter(data=adata, hue=pre_cluster_name, coord_base='umap')\n",
    "\n",
    "html_file_path = \"05f_interactive_umap_plot.html\"\n",
    "pio.write_html(fig, file=html_file_path, auto_open=True)"
   ]
  },
  {
   "cell_type": "code",
   "execution_count": 40,
   "id": "5377fa0d-04a9-4264-9660-0a005f1863e5",
   "metadata": {
    "scrolled": true
   },
   "outputs": [
    {
     "data": {
      "text/plain": [
       "AnnData object with n_obs × n_vars = 120 × 1483\n",
       "    obs: 'leiden'\n",
       "    var: 'chrom', 'end', 'start', 'CHN_mean', 'CHN_dispersion', 'CHN_cov', 'CHN_score', 'CHN_feature_select', 'CGN_mean', 'CGN_dispersion', 'CGN_cov', 'CGN_score', 'CGN_feature_select', 'leiden_enriched_features'\n",
       "    uns: 'leiden', 'leiden_colors', 'leiden_feature_enrichment', 'log', 'neighbors', 'umap', 'paga', 'leiden_sizes'\n",
       "    obsm: 'X_pca', 'X_umap', 'X_tsne'\n",
       "    obsp: 'connectivities', 'distances'"
      ]
     },
     "execution_count": 40,
     "metadata": {},
     "output_type": "execute_result"
    }
   ],
   "source": [
    "adata.write_h5ad(f'adata.with_coords.h5ad')\n",
    "adata"
   ]
  },
  {
   "cell_type": "code",
   "execution_count": 51,
   "id": "456d6418-66c1-423a-b932-3e18cdf6f429",
   "metadata": {},
   "outputs": [],
   "source": [
    "# save reproducable PCA\n",
    "\n",
    "# ReproduciblePCA\n",
    "# This class can save the selected features, scaler loadings and PC loadings into one object.\n",
    "# The saved object can transform a new MCDS object from raw counts all the way to adata with PCs, allowing \n",
    "# quick preprocessing to prepare input for the downstream prediction, integration and clustering analysis.\n",
    "\n",
    "from ALLCools.clustering import ReproduciblePCA\n",
    "\n",
    "ch_rpca = ReproduciblePCA(scaler=ch_scaler, mc_type='CHN', adata=ch_adata)\n",
    "ch_rpca.dump('CHN.ReproduciblePCA.lib')\n",
    "\n",
    "cg_rpca = ReproduciblePCA(scaler=cg_scaler, mc_type='CGN', adata=cg_adata)\n",
    "cg_rpca.dump('CGN.ReproduciblePCA.lib')\n"
   ]
  },
  {
   "cell_type": "code",
   "execution_count": 53,
   "id": "95b73fa4-7a35-4a98-930a-ced4656e95be",
   "metadata": {},
   "outputs": [
    {
     "ename": "IndexError",
     "evalue": "boolean index did not match indexed array along dimension 0; dimension is 31764 but corresponding boolean dimension is 1483",
     "output_type": "error",
     "traceback": [
      "\u001b[0;31m---------------------------------------------------------------------------\u001b[0m",
      "\u001b[0;31mIndexError\u001b[0m                                Traceback (most recent call last)",
      "Cell \u001b[0;32mIn[53], line 8\u001b[0m\n\u001b[1;32m      6\u001b[0m mcds \u001b[38;5;241m=\u001b[39m MCDS\u001b[38;5;241m.\u001b[39mopen(mcds_paths)\n\u001b[1;32m      7\u001b[0m ch_rpca \u001b[38;5;241m=\u001b[39m joblib\u001b[38;5;241m.\u001b[39mload(\u001b[38;5;124m'\u001b[39m\u001b[38;5;124mCHN.ReproduciblePCA.lib\u001b[39m\u001b[38;5;124m'\u001b[39m)\n\u001b[0;32m----> 8\u001b[0m adata \u001b[38;5;241m=\u001b[39m ch_rpca\u001b[38;5;241m.\u001b[39mmcds_to_adata_with_pc(mcds)\n",
      "File \u001b[0;32m/share/lasallelab/Ensi/anaconda3/lib/python3.11/site-packages/ALLCools/clustering/balanced_pca.py:398\u001b[0m, in \u001b[0;36mReproduciblePCA.mcds_to_adata_with_pc\u001b[0;34m(self, mcds)\u001b[0m\n\u001b[1;32m    379\u001b[0m \u001b[38;5;28;01mdef\u001b[39;00m \u001b[38;5;21mmcds_to_adata_with_pc\u001b[39m(\u001b[38;5;28mself\u001b[39m, mcds):\n\u001b[1;32m    380\u001b[0m \u001b[38;5;250m    \u001b[39m\u001b[38;5;124;03m\"\"\"\u001b[39;00m\n\u001b[1;32m    381\u001b[0m \u001b[38;5;124;03m    Get adata from MCDS with PC.\u001b[39;00m\n\u001b[1;32m    382\u001b[0m \n\u001b[0;32m   (...)\u001b[0m\n\u001b[1;32m    396\u001b[0m \u001b[38;5;124;03m        adata.obsm[\"X_pca\"] and PC loadings in adata.varm[\"PCs\"]. The scale and PC are done with fitted model.\u001b[39;00m\n\u001b[1;32m    397\u001b[0m \u001b[38;5;124;03m    \"\"\"\u001b[39;00m\n\u001b[0;32m--> 398\u001b[0m     adata \u001b[38;5;241m=\u001b[39m \u001b[38;5;28mself\u001b[39m\u001b[38;5;241m.\u001b[39mmcds_to_adata(mcds)\n\u001b[1;32m    399\u001b[0m     \u001b[38;5;28mself\u001b[39m\u001b[38;5;241m.\u001b[39mscale(adata)\n\u001b[1;32m    400\u001b[0m     \u001b[38;5;28mself\u001b[39m\u001b[38;5;241m.\u001b[39mpc_transform(adata)\n",
      "File \u001b[0;32m/share/lasallelab/Ensi/anaconda3/lib/python3.11/site-packages/ALLCools/clustering/balanced_pca.py:327\u001b[0m, in \u001b[0;36mReproduciblePCA.mcds_to_adata\u001b[0;34m(self, mcds)\u001b[0m\n\u001b[1;32m    324\u001b[0m mcds\u001b[38;5;241m.\u001b[39mcoords[\u001b[38;5;124mf\u001b[39m\u001b[38;5;124m\"\u001b[39m\u001b[38;5;132;01m{\u001b[39;00m\u001b[38;5;28mself\u001b[39m\u001b[38;5;241m.\u001b[39mvar_dim\u001b[38;5;132;01m}\u001b[39;00m\u001b[38;5;124m_\u001b[39m\u001b[38;5;132;01m{\u001b[39;00m\u001b[38;5;28mself\u001b[39m\u001b[38;5;241m.\u001b[39mmc_type\u001b[38;5;132;01m}\u001b[39;00m\u001b[38;5;124m_feature_select\u001b[39m\u001b[38;5;124m\"\u001b[39m] \u001b[38;5;241m=\u001b[39m hvf_judge\n\u001b[1;32m    326\u001b[0m \u001b[38;5;66;03m# adata only contains self.pc_vars\u001b[39;00m\n\u001b[0;32m--> 327\u001b[0m adata \u001b[38;5;241m=\u001b[39m mcds\u001b[38;5;241m.\u001b[39mget_adata(\n\u001b[1;32m    328\u001b[0m     mc_type\u001b[38;5;241m=\u001b[39m\u001b[38;5;28mself\u001b[39m\u001b[38;5;241m.\u001b[39mmc_type,\n\u001b[1;32m    329\u001b[0m     var_dim\u001b[38;5;241m=\u001b[39m\u001b[38;5;28mself\u001b[39m\u001b[38;5;241m.\u001b[39mvar_dim,\n\u001b[1;32m    330\u001b[0m     da_suffix\u001b[38;5;241m=\u001b[39m\u001b[38;5;124m\"\u001b[39m\u001b[38;5;124mfrac\u001b[39m\u001b[38;5;124m\"\u001b[39m,\n\u001b[1;32m    331\u001b[0m     obs_dim\u001b[38;5;241m=\u001b[39m\u001b[38;5;124m\"\u001b[39m\u001b[38;5;124mcell\u001b[39m\u001b[38;5;124m\"\u001b[39m,\n\u001b[1;32m    332\u001b[0m     select_hvf\u001b[38;5;241m=\u001b[39m\u001b[38;5;124mf\u001b[39m\u001b[38;5;124m\"\u001b[39m\u001b[38;5;132;01m{\u001b[39;00m\u001b[38;5;28mself\u001b[39m\u001b[38;5;241m.\u001b[39mvar_dim\u001b[38;5;132;01m}\u001b[39;00m\u001b[38;5;124m_\u001b[39m\u001b[38;5;132;01m{\u001b[39;00m\u001b[38;5;28mself\u001b[39m\u001b[38;5;241m.\u001b[39mmc_type\u001b[38;5;132;01m}\u001b[39;00m\u001b[38;5;124m_feature_select\u001b[39m\u001b[38;5;124m\"\u001b[39m,\n\u001b[1;32m    333\u001b[0m     split_large_chunks\u001b[38;5;241m=\u001b[39m\u001b[38;5;28;01mTrue\u001b[39;00m,\n\u001b[1;32m    334\u001b[0m )\n\u001b[1;32m    335\u001b[0m \u001b[38;5;28;01mreturn\u001b[39;00m adata\n",
      "File \u001b[0;32m/share/lasallelab/Ensi/anaconda3/lib/python3.11/site-packages/ALLCools/mcds/mcds.py:1150\u001b[0m, in \u001b[0;36mMCDS.get_adata\u001b[0;34m(self, mc_type, obs_dim, var_dim, da_name, da_suffix, select_hvf, dtype, split_large_chunks)\u001b[0m\n\u001b[1;32m   1148\u001b[0m     use_features \u001b[38;5;241m=\u001b[39m \u001b[38;5;28mself\u001b[39m\u001b[38;5;241m.\u001b[39mcoords[col_name]\u001b[38;5;241m.\u001b[39mto_pandas()\u001b[38;5;241m.\u001b[39mdropna()\u001b[38;5;241m.\u001b[39mastype(\u001b[38;5;28mbool\u001b[39m)\n\u001b[1;32m   1149\u001b[0m     use_features \u001b[38;5;241m=\u001b[39m use_features[use_features]\u001b[38;5;241m.\u001b[39mindex\n\u001b[0;32m-> 1150\u001b[0m     use_data \u001b[38;5;241m=\u001b[39m frac_da\u001b[38;5;241m.\u001b[39msel({\u001b[38;5;124m\"\u001b[39m\u001b[38;5;124mmc_type\u001b[39m\u001b[38;5;124m\"\u001b[39m: mc_type, var_dim: use_features})\u001b[38;5;241m.\u001b[39msqueeze()\n\u001b[1;32m   1151\u001b[0m \u001b[38;5;28;01mexcept\u001b[39;00m \u001b[38;5;167;01mKeyError\u001b[39;00m:\n\u001b[1;32m   1152\u001b[0m     \u001b[38;5;28mprint\u001b[39m(\n\u001b[1;32m   1153\u001b[0m         \u001b[38;5;124mf\u001b[39m\u001b[38;5;124m\"\u001b[39m\u001b[38;5;124mselect_hvf is \u001b[39m\u001b[38;5;132;01m{\u001b[39;00mselect_hvf\u001b[38;5;132;01m}\u001b[39;00m\u001b[38;5;124m, but no highly variable feature results found, \u001b[39m\u001b[38;5;124m\"\u001b[39m\n\u001b[1;32m   1154\u001b[0m         \u001b[38;5;124m\"\u001b[39m\u001b[38;5;124muse all features instead.\u001b[39m\u001b[38;5;124m\"\u001b[39m\n\u001b[1;32m   1155\u001b[0m     )\n",
      "File \u001b[0;32m/share/lasallelab/Ensi/anaconda3/lib/python3.11/site-packages/xarray/core/dataarray.py:1662\u001b[0m, in \u001b[0;36mDataArray.sel\u001b[0;34m(self, indexers, method, tolerance, drop, **indexers_kwargs)\u001b[0m\n\u001b[1;32m   1546\u001b[0m \u001b[38;5;28;01mdef\u001b[39;00m \u001b[38;5;21msel\u001b[39m(\n\u001b[1;32m   1547\u001b[0m     \u001b[38;5;28mself\u001b[39m,\n\u001b[1;32m   1548\u001b[0m     indexers: Mapping[Any, Any] \u001b[38;5;241m|\u001b[39m \u001b[38;5;28;01mNone\u001b[39;00m \u001b[38;5;241m=\u001b[39m \u001b[38;5;28;01mNone\u001b[39;00m,\n\u001b[0;32m   (...)\u001b[0m\n\u001b[1;32m   1552\u001b[0m     \u001b[38;5;241m*\u001b[39m\u001b[38;5;241m*\u001b[39mindexers_kwargs: Any,\n\u001b[1;32m   1553\u001b[0m ) \u001b[38;5;241m-\u001b[39m\u001b[38;5;241m>\u001b[39m Self:\n\u001b[1;32m   1554\u001b[0m \u001b[38;5;250m    \u001b[39m\u001b[38;5;124;03m\"\"\"Return a new DataArray whose data is given by selecting index\u001b[39;00m\n\u001b[1;32m   1555\u001b[0m \u001b[38;5;124;03m    labels along the specified dimension(s).\u001b[39;00m\n\u001b[1;32m   1556\u001b[0m \n\u001b[0;32m   (...)\u001b[0m\n\u001b[1;32m   1660\u001b[0m \u001b[38;5;124;03m    Dimensions without coordinates: points\u001b[39;00m\n\u001b[1;32m   1661\u001b[0m \u001b[38;5;124;03m    \"\"\"\u001b[39;00m\n\u001b[0;32m-> 1662\u001b[0m     ds \u001b[38;5;241m=\u001b[39m \u001b[38;5;28mself\u001b[39m\u001b[38;5;241m.\u001b[39m_to_temp_dataset()\u001b[38;5;241m.\u001b[39msel(\n\u001b[1;32m   1663\u001b[0m         indexers\u001b[38;5;241m=\u001b[39mindexers,\n\u001b[1;32m   1664\u001b[0m         drop\u001b[38;5;241m=\u001b[39mdrop,\n\u001b[1;32m   1665\u001b[0m         method\u001b[38;5;241m=\u001b[39mmethod,\n\u001b[1;32m   1666\u001b[0m         tolerance\u001b[38;5;241m=\u001b[39mtolerance,\n\u001b[1;32m   1667\u001b[0m         \u001b[38;5;241m*\u001b[39m\u001b[38;5;241m*\u001b[39mindexers_kwargs,\n\u001b[1;32m   1668\u001b[0m     )\n\u001b[1;32m   1669\u001b[0m     \u001b[38;5;28;01mreturn\u001b[39;00m \u001b[38;5;28mself\u001b[39m\u001b[38;5;241m.\u001b[39m_from_temp_dataset(ds)\n",
      "File \u001b[0;32m/share/lasallelab/Ensi/anaconda3/lib/python3.11/site-packages/xarray/core/dataset.py:3185\u001b[0m, in \u001b[0;36mDataset.sel\u001b[0;34m(self, indexers, method, tolerance, drop, **indexers_kwargs)\u001b[0m\n\u001b[1;32m   3182\u001b[0m                 query_results\u001b[38;5;241m.\u001b[39mdrop_coords\u001b[38;5;241m.\u001b[39mappend(k)\n\u001b[1;32m   3183\u001b[0m     query_results\u001b[38;5;241m.\u001b[39mvariables \u001b[38;5;241m=\u001b[39m no_scalar_variables\n\u001b[0;32m-> 3185\u001b[0m result \u001b[38;5;241m=\u001b[39m \u001b[38;5;28mself\u001b[39m\u001b[38;5;241m.\u001b[39misel(indexers\u001b[38;5;241m=\u001b[39mquery_results\u001b[38;5;241m.\u001b[39mdim_indexers, drop\u001b[38;5;241m=\u001b[39mdrop)\n\u001b[1;32m   3186\u001b[0m \u001b[38;5;28;01mreturn\u001b[39;00m result\u001b[38;5;241m.\u001b[39m_overwrite_indexes(\u001b[38;5;241m*\u001b[39mquery_results\u001b[38;5;241m.\u001b[39mas_tuple()[\u001b[38;5;241m1\u001b[39m:])\n",
      "File \u001b[0;32m/share/lasallelab/Ensi/anaconda3/lib/python3.11/site-packages/xarray/core/dataset.py:3028\u001b[0m, in \u001b[0;36mDataset.isel\u001b[0;34m(self, indexers, drop, missing_dims, **indexers_kwargs)\u001b[0m\n\u001b[1;32m   3025\u001b[0m dims: \u001b[38;5;28mdict\u001b[39m[Hashable, \u001b[38;5;28mint\u001b[39m] \u001b[38;5;241m=\u001b[39m {}\n\u001b[1;32m   3026\u001b[0m coord_names \u001b[38;5;241m=\u001b[39m \u001b[38;5;28mself\u001b[39m\u001b[38;5;241m.\u001b[39m_coord_names\u001b[38;5;241m.\u001b[39mcopy()\n\u001b[0;32m-> 3028\u001b[0m indexes, index_variables \u001b[38;5;241m=\u001b[39m isel_indexes(\u001b[38;5;28mself\u001b[39m\u001b[38;5;241m.\u001b[39mxindexes, indexers)\n\u001b[1;32m   3030\u001b[0m \u001b[38;5;28;01mfor\u001b[39;00m name, var \u001b[38;5;129;01min\u001b[39;00m \u001b[38;5;28mself\u001b[39m\u001b[38;5;241m.\u001b[39m_variables\u001b[38;5;241m.\u001b[39mitems():\n\u001b[1;32m   3031\u001b[0m     \u001b[38;5;66;03m# preserve variable order\u001b[39;00m\n\u001b[1;32m   3032\u001b[0m     \u001b[38;5;28;01mif\u001b[39;00m name \u001b[38;5;129;01min\u001b[39;00m index_variables:\n",
      "File \u001b[0;32m/share/lasallelab/Ensi/anaconda3/lib/python3.11/site-packages/xarray/core/indexes.py:1867\u001b[0m, in \u001b[0;36misel_indexes\u001b[0;34m(indexes, indexers)\u001b[0m\n\u001b[1;32m   1865\u001b[0m     \u001b[38;5;28;01mreturn\u001b[39;00m _apply_indexes(indexes, indexers, \u001b[38;5;124m\"\u001b[39m\u001b[38;5;124misel\u001b[39m\u001b[38;5;124m\"\u001b[39m)\n\u001b[1;32m   1866\u001b[0m \u001b[38;5;28;01melse\u001b[39;00m:\n\u001b[0;32m-> 1867\u001b[0m     \u001b[38;5;28;01mreturn\u001b[39;00m _apply_indexes_fast(indexes, indexers, \u001b[38;5;124m\"\u001b[39m\u001b[38;5;124misel\u001b[39m\u001b[38;5;124m\"\u001b[39m)\n",
      "File \u001b[0;32m/share/lasallelab/Ensi/anaconda3/lib/python3.11/site-packages/xarray/core/indexes.py:1822\u001b[0m, in \u001b[0;36m_apply_indexes_fast\u001b[0;34m(indexes, args, func)\u001b[0m\n\u001b[1;32m   1819\u001b[0m index_args \u001b[38;5;241m=\u001b[39m {k: v \u001b[38;5;28;01mfor\u001b[39;00m k, v \u001b[38;5;129;01min\u001b[39;00m args\u001b[38;5;241m.\u001b[39mitems() \u001b[38;5;28;01mif\u001b[39;00m k \u001b[38;5;129;01min\u001b[39;00m index_dims}\n\u001b[1;32m   1821\u001b[0m \u001b[38;5;28;01mif\u001b[39;00m index_args:\n\u001b[0;32m-> 1822\u001b[0m     new_index \u001b[38;5;241m=\u001b[39m \u001b[38;5;28mgetattr\u001b[39m(index, func)(index_args)\n\u001b[1;32m   1823\u001b[0m     \u001b[38;5;28;01mif\u001b[39;00m new_index \u001b[38;5;129;01mis\u001b[39;00m \u001b[38;5;129;01mnot\u001b[39;00m \u001b[38;5;28;01mNone\u001b[39;00m:\n\u001b[1;32m   1824\u001b[0m         new_indexes\u001b[38;5;241m.\u001b[39mupdate({k: new_index \u001b[38;5;28;01mfor\u001b[39;00m k \u001b[38;5;129;01min\u001b[39;00m index_vars})\n",
      "File \u001b[0;32m/share/lasallelab/Ensi/anaconda3/lib/python3.11/site-packages/xarray/core/indexes.py:743\u001b[0m, in \u001b[0;36mPandasIndex.isel\u001b[0;34m(self, indexers)\u001b[0m\n\u001b[1;32m    739\u001b[0m \u001b[38;5;28;01mif\u001b[39;00m \u001b[38;5;129;01mnot\u001b[39;00m \u001b[38;5;28misinstance\u001b[39m(indxr, \u001b[38;5;28mslice\u001b[39m) \u001b[38;5;129;01mand\u001b[39;00m is_scalar(indxr):\n\u001b[1;32m    740\u001b[0m     \u001b[38;5;66;03m# scalar indexer: drop index\u001b[39;00m\n\u001b[1;32m    741\u001b[0m     \u001b[38;5;28;01mreturn\u001b[39;00m \u001b[38;5;28;01mNone\u001b[39;00m\n\u001b[0;32m--> 743\u001b[0m \u001b[38;5;28;01mreturn\u001b[39;00m \u001b[38;5;28mself\u001b[39m\u001b[38;5;241m.\u001b[39m_replace(\u001b[38;5;28mself\u001b[39m\u001b[38;5;241m.\u001b[39mindex[indxr])\n",
      "File \u001b[0;32m/share/lasallelab/Ensi/anaconda3/lib/python3.11/site-packages/pandas/core/indexes/base.py:5383\u001b[0m, in \u001b[0;36mIndex.__getitem__\u001b[0;34m(self, key)\u001b[0m\n\u001b[1;32m   5380\u001b[0m     \u001b[38;5;28;01melse\u001b[39;00m:\n\u001b[1;32m   5381\u001b[0m         key \u001b[38;5;241m=\u001b[39m np\u001b[38;5;241m.\u001b[39masarray(key, dtype\u001b[38;5;241m=\u001b[39m\u001b[38;5;28mbool\u001b[39m)\n\u001b[0;32m-> 5383\u001b[0m result \u001b[38;5;241m=\u001b[39m getitem(key)\n\u001b[1;32m   5384\u001b[0m \u001b[38;5;66;03m# Because we ruled out integer above, we always get an arraylike here\u001b[39;00m\n\u001b[1;32m   5385\u001b[0m \u001b[38;5;28;01mif\u001b[39;00m result\u001b[38;5;241m.\u001b[39mndim \u001b[38;5;241m>\u001b[39m \u001b[38;5;241m1\u001b[39m:\n",
      "\u001b[0;31mIndexError\u001b[0m: boolean index did not match indexed array along dimension 0; dimension is 31764 but corresponding boolean dimension is 1483"
     ]
    }
   ],
   "source": [
    "# how to use ReproduciblePCA to quickly transfer MCDS into adata with PCs¶\n",
    "\n",
    "import joblib\n",
    "from ALLCools.mcds import MCDS\n",
    "\n",
    "mcds = MCDS.open(mcds_paths)\n",
    "ch_rpca = joblib.load('CHN.ReproduciblePCA.lib')\n",
    "adata = ch_rpca.mcds_to_adata_with_pc(mcds)\n",
    "# adata will have the same var selected and PC space.\n"
   ]
  },
  {
   "cell_type": "code",
   "execution_count": null,
   "id": "aee1a840-6bf1-48fd-9864-f58610ceead3",
   "metadata": {},
   "outputs": [],
   "source": []
  }
 ],
 "metadata": {
  "kernelspec": {
   "display_name": "Python 3 (ipykernel)",
   "language": "python",
   "name": "python3"
  },
  "language_info": {
   "codemirror_mode": {
    "name": "ipython",
    "version": 3
   },
   "file_extension": ".py",
   "mimetype": "text/x-python",
   "name": "python",
   "nbconvert_exporter": "python",
   "pygments_lexer": "ipython3",
   "version": "3.11.7"
  }
 },
 "nbformat": 4,
 "nbformat_minor": 5
}
